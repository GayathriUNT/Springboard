{
 "cells": [
  {
   "cell_type": "code",
   "execution_count": 1,
   "metadata": {},
   "outputs": [],
   "source": [
    "import pandas as pd\n",
    "import numpy as np\n",
    "import datetime as dt\n",
    "import matplotlib.pyplot as plt\n",
    "import seaborn as sns\n"
   ]
  },
  {
   "cell_type": "code",
   "execution_count": 259,
   "metadata": {},
   "outputs": [],
   "source": [
    "\n",
    " # Import scikit-Learn module for train and test data\n",
    "from sklearn.model_selection import train_test_split\n",
    "\n",
    "# Import scikit-Learn module for K-fold cross validation\n",
    "from sklearn.model_selection import KFold\n",
    "from sklearn.model_selection import cross_val_score\n",
    "\n",
    "#Import modele for classification Report\n",
    "from sklearn.metrics import classification_report\n",
    "from sklearn.metrics import accuracy_score\n",
    "from sklearn.metrics import confusion_matrix\n",
    "from sklearn.metrics import roc_curve, roc_auc_score\n",
    "\n",
    "from sklearn.model_selection import train_test_split, cross_validate, GridSearchCV, learning_curve\n",
    "from sklearn.preprocessing import StandardScaler, MinMaxScaler\n",
    "from sklearn.dummy import DummyRegressor\n",
    "\n",
    "from sklearn.ensemble import RandomForestClassifier\n",
    "from sklearn.linear_model import LogisticRegression\n",
    "from sklearn.ensemble import GradientBoostingClassifier\n",
    "\n",
    "\n",
    "\n",
    "from sklearn.pipeline import make_pipeline\n",
    "from sklearn.impute import SimpleImputer\n",
    "from sklearn.feature_selection import SelectKBest, f_regression"
   ]
  },
  {
   "cell_type": "markdown",
   "metadata": {},
   "source": [
    "**Loading the dataset**"
   ]
  },
  {
   "cell_type": "code",
   "execution_count": 287,
   "metadata": {},
   "outputs": [],
   "source": [
    "df = pd.read_json('C:/Users/Gayathri/Desktop/ultimate_data_challenge.json')"
   ]
  },
  {
   "cell_type": "code",
   "execution_count": 288,
   "metadata": {},
   "outputs": [
    {
     "data": {
      "text/html": [
       "<div>\n",
       "<style scoped>\n",
       "    .dataframe tbody tr th:only-of-type {\n",
       "        vertical-align: middle;\n",
       "    }\n",
       "\n",
       "    .dataframe tbody tr th {\n",
       "        vertical-align: top;\n",
       "    }\n",
       "\n",
       "    .dataframe thead th {\n",
       "        text-align: right;\n",
       "    }\n",
       "</style>\n",
       "<table border=\"1\" class=\"dataframe\">\n",
       "  <thead>\n",
       "    <tr style=\"text-align: right;\">\n",
       "      <th></th>\n",
       "      <th>city</th>\n",
       "      <th>trips_in_first_30_days</th>\n",
       "      <th>signup_date</th>\n",
       "      <th>avg_rating_of_driver</th>\n",
       "      <th>avg_surge</th>\n",
       "      <th>last_trip_date</th>\n",
       "      <th>phone</th>\n",
       "      <th>surge_pct</th>\n",
       "      <th>ultimate_black_user</th>\n",
       "      <th>weekday_pct</th>\n",
       "      <th>avg_dist</th>\n",
       "      <th>avg_rating_by_driver</th>\n",
       "    </tr>\n",
       "  </thead>\n",
       "  <tbody>\n",
       "    <tr>\n",
       "      <th>0</th>\n",
       "      <td>King's Landing</td>\n",
       "      <td>4</td>\n",
       "      <td>2014-01-25</td>\n",
       "      <td>4.7</td>\n",
       "      <td>1.10</td>\n",
       "      <td>2014-06-17</td>\n",
       "      <td>iPhone</td>\n",
       "      <td>15.4</td>\n",
       "      <td>True</td>\n",
       "      <td>46.2</td>\n",
       "      <td>3.67</td>\n",
       "      <td>5.0</td>\n",
       "    </tr>\n",
       "    <tr>\n",
       "      <th>1</th>\n",
       "      <td>Astapor</td>\n",
       "      <td>0</td>\n",
       "      <td>2014-01-29</td>\n",
       "      <td>5.0</td>\n",
       "      <td>1.00</td>\n",
       "      <td>2014-05-05</td>\n",
       "      <td>Android</td>\n",
       "      <td>0.0</td>\n",
       "      <td>False</td>\n",
       "      <td>50.0</td>\n",
       "      <td>8.26</td>\n",
       "      <td>5.0</td>\n",
       "    </tr>\n",
       "    <tr>\n",
       "      <th>2</th>\n",
       "      <td>Astapor</td>\n",
       "      <td>3</td>\n",
       "      <td>2014-01-06</td>\n",
       "      <td>4.3</td>\n",
       "      <td>1.00</td>\n",
       "      <td>2014-01-07</td>\n",
       "      <td>iPhone</td>\n",
       "      <td>0.0</td>\n",
       "      <td>False</td>\n",
       "      <td>100.0</td>\n",
       "      <td>0.77</td>\n",
       "      <td>5.0</td>\n",
       "    </tr>\n",
       "    <tr>\n",
       "      <th>3</th>\n",
       "      <td>King's Landing</td>\n",
       "      <td>9</td>\n",
       "      <td>2014-01-10</td>\n",
       "      <td>4.6</td>\n",
       "      <td>1.14</td>\n",
       "      <td>2014-06-29</td>\n",
       "      <td>iPhone</td>\n",
       "      <td>20.0</td>\n",
       "      <td>True</td>\n",
       "      <td>80.0</td>\n",
       "      <td>2.36</td>\n",
       "      <td>4.9</td>\n",
       "    </tr>\n",
       "  </tbody>\n",
       "</table>\n",
       "</div>"
      ],
      "text/plain": [
       "             city  trips_in_first_30_days signup_date  avg_rating_of_driver  \\\n",
       "0  King's Landing                       4  2014-01-25                   4.7   \n",
       "1         Astapor                       0  2014-01-29                   5.0   \n",
       "2         Astapor                       3  2014-01-06                   4.3   \n",
       "3  King's Landing                       9  2014-01-10                   4.6   \n",
       "\n",
       "   avg_surge last_trip_date    phone  surge_pct  ultimate_black_user  \\\n",
       "0       1.10     2014-06-17   iPhone       15.4                 True   \n",
       "1       1.00     2014-05-05  Android        0.0                False   \n",
       "2       1.00     2014-01-07   iPhone        0.0                False   \n",
       "3       1.14     2014-06-29   iPhone       20.0                 True   \n",
       "\n",
       "   weekday_pct  avg_dist  avg_rating_by_driver  \n",
       "0         46.2      3.67                   5.0  \n",
       "1         50.0      8.26                   5.0  \n",
       "2        100.0      0.77                   5.0  \n",
       "3         80.0      2.36                   4.9  "
      ]
     },
     "execution_count": 288,
     "metadata": {},
     "output_type": "execute_result"
    }
   ],
   "source": [
    "df.head(4)"
   ]
  },
  {
   "cell_type": "code",
   "execution_count": 289,
   "metadata": {},
   "outputs": [
    {
     "name": "stdout",
     "output_type": "stream",
     "text": [
      "<class 'pandas.core.frame.DataFrame'>\n",
      "RangeIndex: 50000 entries, 0 to 49999\n",
      "Data columns (total 12 columns):\n",
      " #   Column                  Non-Null Count  Dtype  \n",
      "---  ------                  --------------  -----  \n",
      " 0   city                    50000 non-null  object \n",
      " 1   trips_in_first_30_days  50000 non-null  int64  \n",
      " 2   signup_date             50000 non-null  object \n",
      " 3   avg_rating_of_driver    41878 non-null  float64\n",
      " 4   avg_surge               50000 non-null  float64\n",
      " 5   last_trip_date          50000 non-null  object \n",
      " 6   phone                   49604 non-null  object \n",
      " 7   surge_pct               50000 non-null  float64\n",
      " 8   ultimate_black_user     50000 non-null  bool   \n",
      " 9   weekday_pct             50000 non-null  float64\n",
      " 10  avg_dist                50000 non-null  float64\n",
      " 11  avg_rating_by_driver    49799 non-null  float64\n",
      "dtypes: bool(1), float64(6), int64(1), object(4)\n",
      "memory usage: 4.2+ MB\n"
     ]
    }
   ],
   "source": [
    "df.info()"
   ]
  },
  {
   "cell_type": "code",
   "execution_count": 290,
   "metadata": {},
   "outputs": [
    {
     "data": {
      "text/plain": [
       "(50000, 12)"
      ]
     },
     "execution_count": 290,
     "metadata": {},
     "output_type": "execute_result"
    }
   ],
   "source": [
    "df.shape"
   ]
  },
  {
   "cell_type": "code",
   "execution_count": 291,
   "metadata": {},
   "outputs": [
    {
     "data": {
      "text/plain": [
       "city                       0.000\n",
       "trips_in_first_30_days     0.000\n",
       "signup_date                0.000\n",
       "avg_rating_of_driver      16.244\n",
       "avg_surge                  0.000\n",
       "last_trip_date             0.000\n",
       "phone                      0.792\n",
       "surge_pct                  0.000\n",
       "ultimate_black_user        0.000\n",
       "weekday_pct                0.000\n",
       "avg_dist                   0.000\n",
       "avg_rating_by_driver       0.402\n",
       "dtype: float64"
      ]
     },
     "execution_count": 291,
     "metadata": {},
     "output_type": "execute_result"
    }
   ],
   "source": [
    "df.isnull().sum()/50000 * 100"
   ]
  },
  {
   "cell_type": "markdown",
   "metadata": {},
   "source": [
    "The avg_rating_of_driver has around 16% of missing value. Phone and avg_rating_by_driver has <1% of missing value"
   ]
  },
  {
   "cell_type": "code",
   "execution_count": 292,
   "metadata": {},
   "outputs": [
    {
     "data": {
      "text/plain": [
       "8"
      ]
     },
     "execution_count": 292,
     "metadata": {},
     "output_type": "execute_result"
    }
   ],
   "source": [
    "df.duplicated().sum()"
   ]
  },
  {
   "cell_type": "markdown",
   "metadata": {},
   "source": [
    "There are 8 duplicate records and decided to drop"
   ]
  },
  {
   "cell_type": "code",
   "execution_count": 201,
   "metadata": {},
   "outputs": [],
   "source": [
    "df.drop_duplicates(keep='first',inplace=True)"
   ]
  },
  {
   "cell_type": "code",
   "execution_count": 202,
   "metadata": {},
   "outputs": [
    {
     "data": {
      "text/plain": [
       "(49992, 12)"
      ]
     },
     "execution_count": 202,
     "metadata": {},
     "output_type": "execute_result"
    }
   ],
   "source": [
    "df.shape"
   ]
  },
  {
   "cell_type": "code",
   "execution_count": 203,
   "metadata": {},
   "outputs": [],
   "source": [
    "df['signup_date'] = pd.to_datetime(df['signup_date'],infer_datetime_format=True)\n",
    "df['last_trip_date'] = pd.to_datetime(df['last_trip_date'],infer_datetime_format=True)"
   ]
  },
  {
   "cell_type": "code",
   "execution_count": 204,
   "metadata": {},
   "outputs": [
    {
     "name": "stdout",
     "output_type": "stream",
     "text": [
      "<class 'pandas.core.frame.DataFrame'>\n",
      "Int64Index: 49992 entries, 0 to 49999\n",
      "Data columns (total 12 columns):\n",
      " #   Column                  Non-Null Count  Dtype         \n",
      "---  ------                  --------------  -----         \n",
      " 0   city                    49992 non-null  object        \n",
      " 1   trips_in_first_30_days  49992 non-null  int64         \n",
      " 2   signup_date             49992 non-null  datetime64[ns]\n",
      " 3   avg_rating_of_driver    41873 non-null  float64       \n",
      " 4   avg_surge               49992 non-null  float64       \n",
      " 5   last_trip_date          49992 non-null  datetime64[ns]\n",
      " 6   phone                   49596 non-null  object        \n",
      " 7   surge_pct               49992 non-null  float64       \n",
      " 8   ultimate_black_user     49992 non-null  bool          \n",
      " 9   weekday_pct             49992 non-null  float64       \n",
      " 10  avg_dist                49992 non-null  float64       \n",
      " 11  avg_rating_by_driver    49791 non-null  float64       \n",
      "dtypes: bool(1), datetime64[ns](2), float64(6), int64(1), object(2)\n",
      "memory usage: 4.6+ MB\n"
     ]
    }
   ],
   "source": [
    "df.info()"
   ]
  },
  {
   "cell_type": "code",
   "execution_count": 205,
   "metadata": {},
   "outputs": [
    {
     "data": {
      "text/plain": [
       "2014-06-29    2036\n",
       "2014-06-28    1679\n",
       "2014-06-30    1408\n",
       "2014-06-27    1120\n",
       "2014-06-22    1024\n",
       "              ... \n",
       "2014-02-26      79\n",
       "2014-03-11      79\n",
       "2014-02-20      74\n",
       "2014-03-10      69\n",
       "2014-03-04      69\n",
       "Name: last_trip_date, Length: 182, dtype: int64"
      ]
     },
     "execution_count": 205,
     "metadata": {},
     "output_type": "execute_result"
    }
   ],
   "source": [
    "df['last_trip_date'].value_counts()"
   ]
  },
  {
   "cell_type": "markdown",
   "metadata": {},
   "source": [
    "## Adding the Target column"
   ]
  },
  {
   "cell_type": "code",
   "execution_count": 206,
   "metadata": {},
   "outputs": [],
   "source": [
    "cond = df['last_trip_date'] >= pd.to_datetime('2014-06-01')\n",
    "df['active'] = 0\n",
    "df.loc[cond, 'active'] = 1"
   ]
  },
  {
   "cell_type": "code",
   "execution_count": 207,
   "metadata": {
    "scrolled": true
   },
   "outputs": [
    {
     "data": {
      "text/html": [
       "<div>\n",
       "<style scoped>\n",
       "    .dataframe tbody tr th:only-of-type {\n",
       "        vertical-align: middle;\n",
       "    }\n",
       "\n",
       "    .dataframe tbody tr th {\n",
       "        vertical-align: top;\n",
       "    }\n",
       "\n",
       "    .dataframe thead th {\n",
       "        text-align: right;\n",
       "    }\n",
       "</style>\n",
       "<table border=\"1\" class=\"dataframe\">\n",
       "  <thead>\n",
       "    <tr style=\"text-align: right;\">\n",
       "      <th></th>\n",
       "      <th>city</th>\n",
       "      <th>trips_in_first_30_days</th>\n",
       "      <th>signup_date</th>\n",
       "      <th>avg_rating_of_driver</th>\n",
       "      <th>avg_surge</th>\n",
       "      <th>last_trip_date</th>\n",
       "      <th>phone</th>\n",
       "      <th>surge_pct</th>\n",
       "      <th>ultimate_black_user</th>\n",
       "      <th>weekday_pct</th>\n",
       "      <th>avg_dist</th>\n",
       "      <th>avg_rating_by_driver</th>\n",
       "      <th>active</th>\n",
       "    </tr>\n",
       "  </thead>\n",
       "  <tbody>\n",
       "    <tr>\n",
       "      <th>0</th>\n",
       "      <td>King's Landing</td>\n",
       "      <td>4</td>\n",
       "      <td>2014-01-25</td>\n",
       "      <td>4.7</td>\n",
       "      <td>1.10</td>\n",
       "      <td>2014-06-17</td>\n",
       "      <td>iPhone</td>\n",
       "      <td>15.4</td>\n",
       "      <td>True</td>\n",
       "      <td>46.2</td>\n",
       "      <td>3.67</td>\n",
       "      <td>5.0</td>\n",
       "      <td>1</td>\n",
       "    </tr>\n",
       "    <tr>\n",
       "      <th>1</th>\n",
       "      <td>Astapor</td>\n",
       "      <td>0</td>\n",
       "      <td>2014-01-29</td>\n",
       "      <td>5.0</td>\n",
       "      <td>1.00</td>\n",
       "      <td>2014-05-05</td>\n",
       "      <td>Android</td>\n",
       "      <td>0.0</td>\n",
       "      <td>False</td>\n",
       "      <td>50.0</td>\n",
       "      <td>8.26</td>\n",
       "      <td>5.0</td>\n",
       "      <td>0</td>\n",
       "    </tr>\n",
       "    <tr>\n",
       "      <th>2</th>\n",
       "      <td>Astapor</td>\n",
       "      <td>3</td>\n",
       "      <td>2014-01-06</td>\n",
       "      <td>4.3</td>\n",
       "      <td>1.00</td>\n",
       "      <td>2014-01-07</td>\n",
       "      <td>iPhone</td>\n",
       "      <td>0.0</td>\n",
       "      <td>False</td>\n",
       "      <td>100.0</td>\n",
       "      <td>0.77</td>\n",
       "      <td>5.0</td>\n",
       "      <td>0</td>\n",
       "    </tr>\n",
       "    <tr>\n",
       "      <th>3</th>\n",
       "      <td>King's Landing</td>\n",
       "      <td>9</td>\n",
       "      <td>2014-01-10</td>\n",
       "      <td>4.6</td>\n",
       "      <td>1.14</td>\n",
       "      <td>2014-06-29</td>\n",
       "      <td>iPhone</td>\n",
       "      <td>20.0</td>\n",
       "      <td>True</td>\n",
       "      <td>80.0</td>\n",
       "      <td>2.36</td>\n",
       "      <td>4.9</td>\n",
       "      <td>1</td>\n",
       "    </tr>\n",
       "    <tr>\n",
       "      <th>4</th>\n",
       "      <td>Winterfell</td>\n",
       "      <td>14</td>\n",
       "      <td>2014-01-27</td>\n",
       "      <td>4.4</td>\n",
       "      <td>1.19</td>\n",
       "      <td>2014-03-15</td>\n",
       "      <td>Android</td>\n",
       "      <td>11.8</td>\n",
       "      <td>False</td>\n",
       "      <td>82.4</td>\n",
       "      <td>3.13</td>\n",
       "      <td>4.9</td>\n",
       "      <td>0</td>\n",
       "    </tr>\n",
       "  </tbody>\n",
       "</table>\n",
       "</div>"
      ],
      "text/plain": [
       "             city  trips_in_first_30_days signup_date  avg_rating_of_driver  \\\n",
       "0  King's Landing                       4  2014-01-25                   4.7   \n",
       "1         Astapor                       0  2014-01-29                   5.0   \n",
       "2         Astapor                       3  2014-01-06                   4.3   \n",
       "3  King's Landing                       9  2014-01-10                   4.6   \n",
       "4      Winterfell                      14  2014-01-27                   4.4   \n",
       "\n",
       "   avg_surge last_trip_date    phone  surge_pct  ultimate_black_user  \\\n",
       "0       1.10     2014-06-17   iPhone       15.4                 True   \n",
       "1       1.00     2014-05-05  Android        0.0                False   \n",
       "2       1.00     2014-01-07   iPhone        0.0                False   \n",
       "3       1.14     2014-06-29   iPhone       20.0                 True   \n",
       "4       1.19     2014-03-15  Android       11.8                False   \n",
       "\n",
       "   weekday_pct  avg_dist  avg_rating_by_driver  active  \n",
       "0         46.2      3.67                   5.0       1  \n",
       "1         50.0      8.26                   5.0       0  \n",
       "2        100.0      0.77                   5.0       0  \n",
       "3         80.0      2.36                   4.9       1  \n",
       "4         82.4      3.13                   4.9       0  "
      ]
     },
     "execution_count": 207,
     "metadata": {},
     "output_type": "execute_result"
    }
   ],
   "source": [
    "df.head(5)"
   ]
  },
  {
   "cell_type": "code",
   "execution_count": 208,
   "metadata": {},
   "outputs": [
    {
     "data": {
      "text/plain": [
       "49992"
      ]
     },
     "execution_count": 208,
     "metadata": {},
     "output_type": "execute_result"
    }
   ],
   "source": [
    "len(df['active'])"
   ]
  },
  {
   "cell_type": "markdown",
   "metadata": {},
   "source": [
    "## Exploratory Data Analysis"
   ]
  },
  {
   "cell_type": "code",
   "execution_count": 209,
   "metadata": {},
   "outputs": [
    {
     "data": {
      "text/plain": [
       "0    62.385982\n",
       "1    37.614018\n",
       "Name: active, dtype: float64"
      ]
     },
     "execution_count": 209,
     "metadata": {},
     "output_type": "execute_result"
    }
   ],
   "source": [
    "df['active'].value_counts()/49992*100"
   ]
  },
  {
   "cell_type": "markdown",
   "metadata": {},
   "source": [
    "The percentage of number of riders who are active is less than the riders who are not active. The classes are imbalanced"
   ]
  },
  {
   "cell_type": "code",
   "execution_count": 210,
   "metadata": {},
   "outputs": [
    {
     "data": {
      "text/html": [
       "<div>\n",
       "<style scoped>\n",
       "    .dataframe tbody tr th:only-of-type {\n",
       "        vertical-align: middle;\n",
       "    }\n",
       "\n",
       "    .dataframe tbody tr th {\n",
       "        vertical-align: top;\n",
       "    }\n",
       "\n",
       "    .dataframe thead th {\n",
       "        text-align: right;\n",
       "    }\n",
       "</style>\n",
       "<table border=\"1\" class=\"dataframe\">\n",
       "  <thead>\n",
       "    <tr style=\"text-align: right;\">\n",
       "      <th></th>\n",
       "      <th>count</th>\n",
       "      <th>mean</th>\n",
       "      <th>std</th>\n",
       "      <th>min</th>\n",
       "      <th>25%</th>\n",
       "      <th>50%</th>\n",
       "      <th>75%</th>\n",
       "      <th>max</th>\n",
       "    </tr>\n",
       "  </thead>\n",
       "  <tbody>\n",
       "    <tr>\n",
       "      <th>trips_in_first_30_days</th>\n",
       "      <td>49992.0</td>\n",
       "      <td>2.278405</td>\n",
       "      <td>3.792953</td>\n",
       "      <td>0.0</td>\n",
       "      <td>0.00</td>\n",
       "      <td>1.00</td>\n",
       "      <td>3.00</td>\n",
       "      <td>125.00</td>\n",
       "    </tr>\n",
       "    <tr>\n",
       "      <th>avg_rating_of_driver</th>\n",
       "      <td>41873.0</td>\n",
       "      <td>4.601512</td>\n",
       "      <td>0.617360</td>\n",
       "      <td>1.0</td>\n",
       "      <td>4.30</td>\n",
       "      <td>4.90</td>\n",
       "      <td>5.00</td>\n",
       "      <td>5.00</td>\n",
       "    </tr>\n",
       "    <tr>\n",
       "      <th>avg_surge</th>\n",
       "      <td>49992.0</td>\n",
       "      <td>1.074776</td>\n",
       "      <td>0.222352</td>\n",
       "      <td>1.0</td>\n",
       "      <td>1.00</td>\n",
       "      <td>1.00</td>\n",
       "      <td>1.05</td>\n",
       "      <td>8.00</td>\n",
       "    </tr>\n",
       "    <tr>\n",
       "      <th>surge_pct</th>\n",
       "      <td>49992.0</td>\n",
       "      <td>8.850952</td>\n",
       "      <td>19.960094</td>\n",
       "      <td>0.0</td>\n",
       "      <td>0.00</td>\n",
       "      <td>0.00</td>\n",
       "      <td>8.60</td>\n",
       "      <td>100.00</td>\n",
       "    </tr>\n",
       "    <tr>\n",
       "      <th>weekday_pct</th>\n",
       "      <td>49992.0</td>\n",
       "      <td>60.929833</td>\n",
       "      <td>37.078229</td>\n",
       "      <td>0.0</td>\n",
       "      <td>33.30</td>\n",
       "      <td>66.70</td>\n",
       "      <td>100.00</td>\n",
       "      <td>100.00</td>\n",
       "    </tr>\n",
       "    <tr>\n",
       "      <th>avg_dist</th>\n",
       "      <td>49992.0</td>\n",
       "      <td>5.797260</td>\n",
       "      <td>5.707610</td>\n",
       "      <td>0.0</td>\n",
       "      <td>2.42</td>\n",
       "      <td>3.88</td>\n",
       "      <td>6.94</td>\n",
       "      <td>160.96</td>\n",
       "    </tr>\n",
       "    <tr>\n",
       "      <th>avg_rating_by_driver</th>\n",
       "      <td>49791.0</td>\n",
       "      <td>4.778123</td>\n",
       "      <td>0.446679</td>\n",
       "      <td>1.0</td>\n",
       "      <td>4.70</td>\n",
       "      <td>5.00</td>\n",
       "      <td>5.00</td>\n",
       "      <td>5.00</td>\n",
       "    </tr>\n",
       "  </tbody>\n",
       "</table>\n",
       "</div>"
      ],
      "text/plain": [
       "                          count       mean        std  min    25%    50%  \\\n",
       "trips_in_first_30_days  49992.0   2.278405   3.792953  0.0   0.00   1.00   \n",
       "avg_rating_of_driver    41873.0   4.601512   0.617360  1.0   4.30   4.90   \n",
       "avg_surge               49992.0   1.074776   0.222352  1.0   1.00   1.00   \n",
       "surge_pct               49992.0   8.850952  19.960094  0.0   0.00   0.00   \n",
       "weekday_pct             49992.0  60.929833  37.078229  0.0  33.30  66.70   \n",
       "avg_dist                49992.0   5.797260   5.707610  0.0   2.42   3.88   \n",
       "avg_rating_by_driver    49791.0   4.778123   0.446679  1.0   4.70   5.00   \n",
       "\n",
       "                           75%     max  \n",
       "trips_in_first_30_days    3.00  125.00  \n",
       "avg_rating_of_driver      5.00    5.00  \n",
       "avg_surge                 1.05    8.00  \n",
       "surge_pct                 8.60  100.00  \n",
       "weekday_pct             100.00  100.00  \n",
       "avg_dist                  6.94  160.96  \n",
       "avg_rating_by_driver      5.00    5.00  "
      ]
     },
     "execution_count": 210,
     "metadata": {},
     "output_type": "execute_result"
    }
   ],
   "source": [
    "num_cols = ['trips_in_first_30_days',\n",
    " 'avg_rating_of_driver',\n",
    " 'avg_surge',\n",
    " 'surge_pct',\n",
    " 'weekday_pct',\n",
    " 'avg_dist',\n",
    " 'avg_rating_by_driver']\n",
    "\n",
    "df[num_cols].describe().T"
   ]
  },
  {
   "cell_type": "code",
   "execution_count": 211,
   "metadata": {},
   "outputs": [
    {
     "data": {
      "image/png": "[encoded data removed]",
      "text/plain": [
       "<Figure size 864x720 with 9 Axes>"
      ]
     },
     "metadata": {
      "needs_background": "light"
     },
     "output_type": "display_data"
    }
   ],
   "source": [
    "df[num_cols].hist(bins=20, figsize=(12, 10))\n",
    "plt.tight_layout()"
   ]
  },
  {
   "cell_type": "code",
   "execution_count": 212,
   "metadata": {},
   "outputs": [
    {
     "data": {
      "image/png": "[encoded data removed]",
      "text/plain": [
       "<Figure size 864x576 with 1 Axes>"
      ]
     },
     "metadata": {
      "needs_background": "light"
     },
     "output_type": "display_data"
    }
   ],
   "source": [
    "df[num_cols].boxplot(figsize=(12, 8),\n",
    "                    rot=45,\n",
    "                    patch_artist=True)\n",
    "plt.tight_layout()"
   ]
  },
  {
   "cell_type": "code",
   "execution_count": 213,
   "metadata": {},
   "outputs": [
    {
     "data": {
      "text/plain": [
       "Text(0.5, 1.0, 'Distribution of activity for numerical features')"
      ]
     },
     "execution_count": 213,
     "metadata": {},
     "output_type": "execute_result"
    },
    {
     "data": {
      "image/png": "[encoded data removed]",
      "text/plain": [
       "<Figure size 1584x1080 with 8 Axes>"
      ]
     },
     "metadata": {
      "needs_background": "light"
     },
     "output_type": "display_data"
    }
   ],
   "source": [
    "fig, axes = plt.subplots(2, 4, figsize=(22, 15))\n",
    "sns.boxplot(ax=axes[0, 0], data=df, x='active', y='trips_in_first_30_days')\n",
    "sns.boxplot(ax=axes[0, 1], data=df, x='active', y='avg_rating_of_driver')\n",
    "sns.boxplot(ax=axes[0, 2], data=df, x='active', y='avg_surge')\n",
    "sns.boxplot(ax=axes[0, 3], data=df, x='active', y='surge_pct')\n",
    "sns.boxplot(ax=axes[1, 0], data=df, x='active', y='weekday_pct')\n",
    "sns.boxplot(ax=axes[1, 1], data=df, x='active', y='avg_dist')\n",
    "sns.boxplot(ax=axes[1, 2], data=df, x='active', y='avg_rating_by_driver')\n",
    "\n",
    "plt.title('Distribution of activity for numerical features')"
   ]
  },
  {
   "cell_type": "code",
   "execution_count": 214,
   "metadata": {},
   "outputs": [
    {
     "name": "stdout",
     "output_type": "stream",
     "text": [
      "Percentage of phone for active and non active riders\n"
     ]
    },
    {
     "data": {
      "text/plain": [
       "phone    active\n",
       "Android  0         23.747800\n",
       "         1          6.293007\n",
       "iPhone   0         38.112098\n",
       "         1         31.054969\n",
       "Name: active, dtype: float64"
      ]
     },
     "execution_count": 214,
     "metadata": {},
     "output_type": "execute_result"
    }
   ],
   "source": [
    "print('Percentage of phone for active and non active riders')\n",
    "df.groupby(['phone'])['active'].value_counts()/49992*100"
   ]
  },
  {
   "cell_type": "code",
   "execution_count": 215,
   "metadata": {},
   "outputs": [
    {
     "data": {
      "text/plain": [
       "<AxesSubplot:xlabel='phone', ylabel='count'>"
      ]
     },
     "execution_count": 215,
     "metadata": {},
     "output_type": "execute_result"
    },
    {
     "data": {
      "image/png": "[encoded data removed]",
      "text/plain": [
       "<Figure size 432x288 with 1 Axes>"
      ]
     },
     "metadata": {
      "needs_background": "light"
     },
     "output_type": "display_data"
    }
   ],
   "source": [
    "\n",
    "sns.countplot(data=df.fillna('Unknown'),x='phone',hue='active')"
   ]
  },
  {
   "cell_type": "code",
   "execution_count": 216,
   "metadata": {},
   "outputs": [
    {
     "name": "stdout",
     "output_type": "stream",
     "text": [
      "Percentage of city for active and non active riders belong\n"
     ]
    },
    {
     "data": {
      "text/plain": [
       "city            active\n",
       "Astapor         0         24.609938\n",
       "                1          8.457353\n",
       "King's Landing  1         12.728036\n",
       "                0          7.535206\n",
       "Winterfell      0         30.240839\n",
       "                1         16.428629\n",
       "Name: active, dtype: float64"
      ]
     },
     "execution_count": 216,
     "metadata": {},
     "output_type": "execute_result"
    }
   ],
   "source": [
    "print('Percentage of city for active and non active riders belong')\n",
    "df.groupby(['city'])['active'].value_counts()/49992*100"
   ]
  },
  {
   "cell_type": "code",
   "execution_count": 217,
   "metadata": {},
   "outputs": [
    {
     "data": {
      "text/plain": [
       "<AxesSubplot:xlabel='city', ylabel='count'>"
      ]
     },
     "execution_count": 217,
     "metadata": {},
     "output_type": "execute_result"
    },
    {
     "data": {
      "image/png": "[encoded data removed]",
      "text/plain": [
       "<Figure size 432x288 with 1 Axes>"
      ]
     },
     "metadata": {
      "needs_background": "light"
     },
     "output_type": "display_data"
    }
   ],
   "source": [
    "\n",
    "sns.countplot(data=df.fillna('Unknown'),x='city',hue='active')"
   ]
  },
  {
   "cell_type": "code",
   "execution_count": 218,
   "metadata": {},
   "outputs": [],
   "source": [
    "df['ultimate_black_user'] = df['ultimate_black_user'].astype(object)"
   ]
  },
  {
   "cell_type": "code",
   "execution_count": 221,
   "metadata": {},
   "outputs": [
    {
     "data": {
      "text/plain": [
       "city            ultimate_black_user\n",
       "Astapor         False                  20.115218\n",
       "                True                   12.952072\n",
       "King's Landing  False                  11.849896\n",
       "                True                    8.413346\n",
       "Winterfell      False                  30.326852\n",
       "                True                   16.342615\n",
       "Name: ultimate_black_user, dtype: float64"
      ]
     },
     "execution_count": 221,
     "metadata": {},
     "output_type": "execute_result"
    }
   ],
   "source": [
    "df.groupby(['city'])['ultimate_black_user'].value_counts()/49992*100"
   ]
  },
  {
   "cell_type": "code",
   "execution_count": 222,
   "metadata": {},
   "outputs": [
    {
     "data": {
      "text/plain": [
       "<AxesSubplot:xlabel='ultimate_black_user', ylabel='count'>"
      ]
     },
     "execution_count": 222,
     "metadata": {},
     "output_type": "execute_result"
    },
    {
     "data": {
      "image/png": "[encoded data removed]",
      "text/plain": [
       "<Figure size 432x288 with 1 Axes>"
      ]
     },
     "metadata": {
      "needs_background": "light"
     },
     "output_type": "display_data"
    }
   ],
   "source": [
    "sns.countplot(data=df.fillna('Unknown'),x='ultimate_black_user',hue='active')"
   ]
  },
  {
   "cell_type": "markdown",
   "metadata": {},
   "source": [
    "**Findings from EDA**\n",
    "- The percentage of number of riders who are active is less than the riders who are not active. The classes are imbalanced\n",
    "- Around 38% of riders were active <br/>\n",
    "- King's Landing has high retention, Astapor the lowest retention<br/>\n",
    "- iPhone users more likely to be active  then Android users<br/>\n",
    "- trips_in_first_30_days, surge_pct, avg_dist has outliers <br/>\n",
    " \n"
   ]
  },
  {
   "cell_type": "code",
   "execution_count": 223,
   "metadata": {},
   "outputs": [
    {
     "data": {
      "text/html": [
       "<div>\n",
       "<style scoped>\n",
       "    .dataframe tbody tr th:only-of-type {\n",
       "        vertical-align: middle;\n",
       "    }\n",
       "\n",
       "    .dataframe tbody tr th {\n",
       "        vertical-align: top;\n",
       "    }\n",
       "\n",
       "    .dataframe thead th {\n",
       "        text-align: right;\n",
       "    }\n",
       "</style>\n",
       "<table border=\"1\" class=\"dataframe\">\n",
       "  <thead>\n",
       "    <tr style=\"text-align: right;\">\n",
       "      <th></th>\n",
       "      <th>signup_day</th>\n",
       "      <th>signup_day_is_weekend</th>\n",
       "    </tr>\n",
       "  </thead>\n",
       "  <tbody>\n",
       "    <tr>\n",
       "      <th>0</th>\n",
       "      <td>5</td>\n",
       "      <td>1</td>\n",
       "    </tr>\n",
       "    <tr>\n",
       "      <th>1</th>\n",
       "      <td>2</td>\n",
       "      <td>0</td>\n",
       "    </tr>\n",
       "    <tr>\n",
       "      <th>2</th>\n",
       "      <td>0</td>\n",
       "      <td>0</td>\n",
       "    </tr>\n",
       "    <tr>\n",
       "      <th>3</th>\n",
       "      <td>4</td>\n",
       "      <td>0</td>\n",
       "    </tr>\n",
       "    <tr>\n",
       "      <th>4</th>\n",
       "      <td>0</td>\n",
       "      <td>0</td>\n",
       "    </tr>\n",
       "    <tr>\n",
       "      <th>...</th>\n",
       "      <td>...</td>\n",
       "      <td>...</td>\n",
       "    </tr>\n",
       "    <tr>\n",
       "      <th>49995</th>\n",
       "      <td>5</td>\n",
       "      <td>1</td>\n",
       "    </tr>\n",
       "    <tr>\n",
       "      <th>49996</th>\n",
       "      <td>4</td>\n",
       "      <td>0</td>\n",
       "    </tr>\n",
       "    <tr>\n",
       "      <th>49997</th>\n",
       "      <td>4</td>\n",
       "      <td>0</td>\n",
       "    </tr>\n",
       "    <tr>\n",
       "      <th>49998</th>\n",
       "      <td>1</td>\n",
       "      <td>0</td>\n",
       "    </tr>\n",
       "    <tr>\n",
       "      <th>49999</th>\n",
       "      <td>5</td>\n",
       "      <td>1</td>\n",
       "    </tr>\n",
       "  </tbody>\n",
       "</table>\n",
       "<p>49992 rows × 2 columns</p>\n",
       "</div>"
      ],
      "text/plain": [
       "       signup_day  signup_day_is_weekend\n",
       "0               5                      1\n",
       "1               2                      0\n",
       "2               0                      0\n",
       "3               4                      0\n",
       "4               0                      0\n",
       "...           ...                    ...\n",
       "49995           5                      1\n",
       "49996           4                      0\n",
       "49997           4                      0\n",
       "49998           1                      0\n",
       "49999           5                      1\n",
       "\n",
       "[49992 rows x 2 columns]"
      ]
     },
     "execution_count": 223,
     "metadata": {},
     "output_type": "execute_result"
    }
   ],
   "source": [
    "# Extract features from signup_date\n",
    "df['signup_day'] = df['signup_date'].dt.dayofweek\n",
    "df['signup_day_is_weekend'] = np.where((df['signup_day'] == 5)\n",
    "                                      | (df['signup_day'] == 6), 1, 0)\n",
    "\n",
    "df[['signup_day', 'signup_day_is_weekend']]"
   ]
  },
  {
   "cell_type": "code",
   "execution_count": 224,
   "metadata": {},
   "outputs": [],
   "source": [
    "# Drop unecessary columns\n",
    "df.drop(['signup_date'], axis=1, inplace=True)"
   ]
  },
  {
   "cell_type": "code",
   "execution_count": 225,
   "metadata": {},
   "outputs": [
    {
     "data": {
      "text/plain": [
       "city                         0\n",
       "trips_in_first_30_days       0\n",
       "avg_rating_of_driver      8119\n",
       "avg_surge                    0\n",
       "last_trip_date               0\n",
       "phone                      396\n",
       "surge_pct                    0\n",
       "ultimate_black_user          0\n",
       "weekday_pct                  0\n",
       "avg_dist                     0\n",
       "avg_rating_by_driver       201\n",
       "active                       0\n",
       "signup_day                   0\n",
       "signup_day_is_weekend        0\n",
       "dtype: int64"
      ]
     },
     "execution_count": 225,
     "metadata": {},
     "output_type": "execute_result"
    }
   ],
   "source": [
    "df.isnull().sum()"
   ]
  },
  {
   "cell_type": "code",
   "execution_count": 226,
   "metadata": {},
   "outputs": [
    {
     "data": {
      "text/plain": [
       "city                              object\n",
       "trips_in_first_30_days             int64\n",
       "avg_rating_of_driver             float64\n",
       "avg_surge                        float64\n",
       "last_trip_date            datetime64[ns]\n",
       "phone                             object\n",
       "surge_pct                        float64\n",
       "ultimate_black_user               object\n",
       "weekday_pct                      float64\n",
       "avg_dist                         float64\n",
       "avg_rating_by_driver             float64\n",
       "active                             int64\n",
       "signup_day                         int64\n",
       "signup_day_is_weekend              int32\n",
       "dtype: object"
      ]
     },
     "execution_count": 226,
     "metadata": {},
     "output_type": "execute_result"
    }
   ],
   "source": [
    "df.dtypes"
   ]
  },
  {
   "cell_type": "markdown",
   "metadata": {},
   "source": [
    "**Applying Classification Models**\n",
    "\n",
    "Three classification models to this data in order to see whether the rider is active or not. That model will then be used to provide insights to Ultimate which can be leveraged to improve rider retention.\n",
    "\n",
    "1.LogisticRegression <br/>\n",
    "2. Random Forest<br/>\n",
    "3. XGBBoost"
   ]
  },
  {
   "cell_type": "code",
   "execution_count": 227,
   "metadata": {},
   "outputs": [],
   "source": [
    "df['avg_rating_by_driver'].fillna(df['avg_rating_by_driver'].mean(),inplace=True)"
   ]
  },
  {
   "cell_type": "code",
   "execution_count": 228,
   "metadata": {},
   "outputs": [],
   "source": [
    "df['avg_rating_of_driver'].fillna(df['avg_rating_of_driver'].mean(),inplace=True)"
   ]
  },
  {
   "cell_type": "code",
   "execution_count": 229,
   "metadata": {},
   "outputs": [],
   "source": [
    "df['phone'] = SimpleImputer(missing_values='most_frquent')"
   ]
  },
  {
   "cell_type": "code",
   "execution_count": 230,
   "metadata": {},
   "outputs": [
    {
     "data": {
      "text/plain": [
       "city                      0\n",
       "trips_in_first_30_days    0\n",
       "avg_rating_of_driver      0\n",
       "avg_surge                 0\n",
       "last_trip_date            0\n",
       "phone                     0\n",
       "surge_pct                 0\n",
       "ultimate_black_user       0\n",
       "weekday_pct               0\n",
       "avg_dist                  0\n",
       "avg_rating_by_driver      0\n",
       "active                    0\n",
       "signup_day                0\n",
       "signup_day_is_weekend     0\n",
       "dtype: int64"
      ]
     },
     "execution_count": 230,
     "metadata": {},
     "output_type": "execute_result"
    }
   ],
   "source": [
    "df.isnull().sum()"
   ]
  },
  {
   "cell_type": "code",
   "execution_count": 231,
   "metadata": {},
   "outputs": [],
   "source": [
    "df['ultimate_black_user'] = df['ultimate_black_user'].replace(True,1)\n",
    "df['ultimate_black_user'] = df['ultimate_black_user'].replace(False,0)        "
   ]
  },
  {
   "cell_type": "code",
   "execution_count": 232,
   "metadata": {},
   "outputs": [],
   "source": [
    "cities = pd.get_dummies(df['city'], prefix='city', drop_first=True)\n",
    "phone = pd.get_dummies(df['phone'], drop_first=True)"
   ]
  },
  {
   "cell_type": "code",
   "execution_count": 233,
   "metadata": {},
   "outputs": [
    {
     "data": {
      "text/html": [
       "<div>\n",
       "<style scoped>\n",
       "    .dataframe tbody tr th:only-of-type {\n",
       "        vertical-align: middle;\n",
       "    }\n",
       "\n",
       "    .dataframe tbody tr th {\n",
       "        vertical-align: top;\n",
       "    }\n",
       "\n",
       "    .dataframe thead th {\n",
       "        text-align: right;\n",
       "    }\n",
       "</style>\n",
       "<table border=\"1\" class=\"dataframe\">\n",
       "  <thead>\n",
       "    <tr style=\"text-align: right;\">\n",
       "      <th></th>\n",
       "      <th>trips_in_first_30_days</th>\n",
       "      <th>avg_rating_of_driver</th>\n",
       "      <th>avg_surge</th>\n",
       "      <th>last_trip_date</th>\n",
       "      <th>surge_pct</th>\n",
       "      <th>ultimate_black_user</th>\n",
       "      <th>weekday_pct</th>\n",
       "      <th>avg_dist</th>\n",
       "      <th>avg_rating_by_driver</th>\n",
       "      <th>active</th>\n",
       "      <th>signup_day</th>\n",
       "      <th>signup_day_is_weekend</th>\n",
       "      <th>city_King's Landing</th>\n",
       "      <th>city_Winterfell</th>\n",
       "    </tr>\n",
       "  </thead>\n",
       "  <tbody>\n",
       "    <tr>\n",
       "      <th>0</th>\n",
       "      <td>4</td>\n",
       "      <td>4.7</td>\n",
       "      <td>1.10</td>\n",
       "      <td>2014-06-17</td>\n",
       "      <td>15.4</td>\n",
       "      <td>1</td>\n",
       "      <td>46.2</td>\n",
       "      <td>3.67</td>\n",
       "      <td>5.0</td>\n",
       "      <td>1</td>\n",
       "      <td>5</td>\n",
       "      <td>1</td>\n",
       "      <td>1</td>\n",
       "      <td>0</td>\n",
       "    </tr>\n",
       "    <tr>\n",
       "      <th>1</th>\n",
       "      <td>0</td>\n",
       "      <td>5.0</td>\n",
       "      <td>1.00</td>\n",
       "      <td>2014-05-05</td>\n",
       "      <td>0.0</td>\n",
       "      <td>0</td>\n",
       "      <td>50.0</td>\n",
       "      <td>8.26</td>\n",
       "      <td>5.0</td>\n",
       "      <td>0</td>\n",
       "      <td>2</td>\n",
       "      <td>0</td>\n",
       "      <td>0</td>\n",
       "      <td>0</td>\n",
       "    </tr>\n",
       "    <tr>\n",
       "      <th>2</th>\n",
       "      <td>3</td>\n",
       "      <td>4.3</td>\n",
       "      <td>1.00</td>\n",
       "      <td>2014-01-07</td>\n",
       "      <td>0.0</td>\n",
       "      <td>0</td>\n",
       "      <td>100.0</td>\n",
       "      <td>0.77</td>\n",
       "      <td>5.0</td>\n",
       "      <td>0</td>\n",
       "      <td>0</td>\n",
       "      <td>0</td>\n",
       "      <td>0</td>\n",
       "      <td>0</td>\n",
       "    </tr>\n",
       "    <tr>\n",
       "      <th>3</th>\n",
       "      <td>9</td>\n",
       "      <td>4.6</td>\n",
       "      <td>1.14</td>\n",
       "      <td>2014-06-29</td>\n",
       "      <td>20.0</td>\n",
       "      <td>1</td>\n",
       "      <td>80.0</td>\n",
       "      <td>2.36</td>\n",
       "      <td>4.9</td>\n",
       "      <td>1</td>\n",
       "      <td>4</td>\n",
       "      <td>0</td>\n",
       "      <td>1</td>\n",
       "      <td>0</td>\n",
       "    </tr>\n",
       "    <tr>\n",
       "      <th>4</th>\n",
       "      <td>14</td>\n",
       "      <td>4.4</td>\n",
       "      <td>1.19</td>\n",
       "      <td>2014-03-15</td>\n",
       "      <td>11.8</td>\n",
       "      <td>0</td>\n",
       "      <td>82.4</td>\n",
       "      <td>3.13</td>\n",
       "      <td>4.9</td>\n",
       "      <td>0</td>\n",
       "      <td>0</td>\n",
       "      <td>0</td>\n",
       "      <td>0</td>\n",
       "      <td>1</td>\n",
       "    </tr>\n",
       "  </tbody>\n",
       "</table>\n",
       "</div>"
      ],
      "text/plain": [
       "   trips_in_first_30_days  avg_rating_of_driver  avg_surge last_trip_date  \\\n",
       "0                       4                   4.7       1.10     2014-06-17   \n",
       "1                       0                   5.0       1.00     2014-05-05   \n",
       "2                       3                   4.3       1.00     2014-01-07   \n",
       "3                       9                   4.6       1.14     2014-06-29   \n",
       "4                      14                   4.4       1.19     2014-03-15   \n",
       "\n",
       "   surge_pct  ultimate_black_user  weekday_pct  avg_dist  \\\n",
       "0       15.4                    1         46.2      3.67   \n",
       "1        0.0                    0         50.0      8.26   \n",
       "2        0.0                    0        100.0      0.77   \n",
       "3       20.0                    1         80.0      2.36   \n",
       "4       11.8                    0         82.4      3.13   \n",
       "\n",
       "   avg_rating_by_driver  active  signup_day  signup_day_is_weekend  \\\n",
       "0                   5.0       1           5                      1   \n",
       "1                   5.0       0           2                      0   \n",
       "2                   5.0       0           0                      0   \n",
       "3                   4.9       1           4                      0   \n",
       "4                   4.9       0           0                      0   \n",
       "\n",
       "   city_King's Landing  city_Winterfell  \n",
       "0                    1                0  \n",
       "1                    0                0  \n",
       "2                    0                0  \n",
       "3                    1                0  \n",
       "4                    0                1  "
      ]
     },
     "execution_count": 233,
     "metadata": {},
     "output_type": "execute_result"
    }
   ],
   "source": [
    "df = df.drop(labels=['city', 'phone'], axis=1)\n",
    "df = pd.concat([df, cities, phone], axis=1)\n",
    "df.head()"
   ]
  },
  {
   "cell_type": "code",
   "execution_count": null,
   "metadata": {},
   "outputs": [],
   "source": []
  },
  {
   "cell_type": "code",
   "execution_count": 243,
   "metadata": {},
   "outputs": [],
   "source": [
    "# Store features in X and target in y\n",
    "X = df.drop(['active','last_trip_date'], axis=1)\n",
    "y = df['active']\n",
    "\n"
   ]
  },
  {
   "cell_type": "code",
   "execution_count": 244,
   "metadata": {},
   "outputs": [
    {
     "data": {
      "text/plain": [
       "Index(['trips_in_first_30_days', 'avg_rating_of_driver', 'avg_surge',\n",
       "       'surge_pct', 'ultimate_black_user', 'weekday_pct', 'avg_dist',\n",
       "       'avg_rating_by_driver', 'signup_day', 'signup_day_is_weekend',\n",
       "       'city_King's Landing', 'city_Winterfell'],\n",
       "      dtype='object')"
      ]
     },
     "execution_count": 244,
     "metadata": {},
     "output_type": "execute_result"
    }
   ],
   "source": [
    "cols = X.columns\n",
    "cols"
   ]
  },
  {
   "cell_type": "markdown",
   "metadata": {},
   "source": [
    "**Scalling the features**"
   ]
  },
  {
   "cell_type": "code",
   "execution_count": 241,
   "metadata": {},
   "outputs": [],
   "source": [
    "scaler = StandardScaler()\n",
    "scaler.fit(X)\n",
    "df_scale = scaler.transform(X)\n",
    "X_scaled = pd.DataFrame(df_scale,columns=cols) "
   ]
  },
  {
   "cell_type": "code",
   "execution_count": 242,
   "metadata": {},
   "outputs": [
    {
     "data": {
      "text/html": [
       "<div>\n",
       "<style scoped>\n",
       "    .dataframe tbody tr th:only-of-type {\n",
       "        vertical-align: middle;\n",
       "    }\n",
       "\n",
       "    .dataframe tbody tr th {\n",
       "        vertical-align: top;\n",
       "    }\n",
       "\n",
       "    .dataframe thead th {\n",
       "        text-align: right;\n",
       "    }\n",
       "</style>\n",
       "<table border=\"1\" class=\"dataframe\">\n",
       "  <thead>\n",
       "    <tr style=\"text-align: right;\">\n",
       "      <th></th>\n",
       "      <th>trips_in_first_30_days</th>\n",
       "      <th>avg_rating_of_driver</th>\n",
       "      <th>avg_surge</th>\n",
       "      <th>surge_pct</th>\n",
       "      <th>ultimate_black_user</th>\n",
       "      <th>weekday_pct</th>\n",
       "      <th>avg_dist</th>\n",
       "      <th>avg_rating_by_driver</th>\n",
       "      <th>signup_day</th>\n",
       "      <th>signup_day_is_weekend</th>\n",
       "      <th>city_King's Landing</th>\n",
       "      <th>city_Winterfell</th>\n",
       "    </tr>\n",
       "  </thead>\n",
       "  <tbody>\n",
       "    <tr>\n",
       "      <th>0</th>\n",
       "      <td>0.453898</td>\n",
       "      <td>1.743149e-01</td>\n",
       "      <td>0.113444</td>\n",
       "      <td>0.328110</td>\n",
       "      <td>1.285284</td>\n",
       "      <td>-0.397268</td>\n",
       "      <td>-0.372710</td>\n",
       "      <td>0.497734</td>\n",
       "      <td>0.898875</td>\n",
       "      <td>1.449035</td>\n",
       "      <td>1.983695</td>\n",
       "      <td>-0.935467</td>\n",
       "    </tr>\n",
       "    <tr>\n",
       "      <th>1</th>\n",
       "      <td>-0.600700</td>\n",
       "      <td>7.052864e-01</td>\n",
       "      <td>-0.336298</td>\n",
       "      <td>-0.443437</td>\n",
       "      <td>-0.778038</td>\n",
       "      <td>-0.294781</td>\n",
       "      <td>0.431488</td>\n",
       "      <td>0.497734</td>\n",
       "      <td>-0.696317</td>\n",
       "      <td>-0.690114</td>\n",
       "      <td>-0.504110</td>\n",
       "      <td>-0.935467</td>\n",
       "    </tr>\n",
       "    <tr>\n",
       "      <th>2</th>\n",
       "      <td>0.190248</td>\n",
       "      <td>-5.336471e-01</td>\n",
       "      <td>-0.336298</td>\n",
       "      <td>-0.443437</td>\n",
       "      <td>-0.778038</td>\n",
       "      <td>1.053733</td>\n",
       "      <td>-0.880808</td>\n",
       "      <td>0.497734</td>\n",
       "      <td>-1.759778</td>\n",
       "      <td>-0.690114</td>\n",
       "      <td>-0.504110</td>\n",
       "      <td>-0.935467</td>\n",
       "    </tr>\n",
       "    <tr>\n",
       "      <th>3</th>\n",
       "      <td>1.772145</td>\n",
       "      <td>-2.675590e-03</td>\n",
       "      <td>0.293341</td>\n",
       "      <td>0.558572</td>\n",
       "      <td>1.285284</td>\n",
       "      <td>0.514328</td>\n",
       "      <td>-0.602230</td>\n",
       "      <td>0.273405</td>\n",
       "      <td>0.367144</td>\n",
       "      <td>-0.690114</td>\n",
       "      <td>1.983695</td>\n",
       "      <td>-0.935467</td>\n",
       "    </tr>\n",
       "    <tr>\n",
       "      <th>4</th>\n",
       "      <td>3.090392</td>\n",
       "      <td>-3.566566e-01</td>\n",
       "      <td>0.518212</td>\n",
       "      <td>0.147749</td>\n",
       "      <td>-0.778038</td>\n",
       "      <td>0.579056</td>\n",
       "      <td>-0.467321</td>\n",
       "      <td>0.273405</td>\n",
       "      <td>-1.759778</td>\n",
       "      <td>-0.690114</td>\n",
       "      <td>-0.504110</td>\n",
       "      <td>1.068985</td>\n",
       "    </tr>\n",
       "    <tr>\n",
       "      <th>...</th>\n",
       "      <td>...</td>\n",
       "      <td>...</td>\n",
       "      <td>...</td>\n",
       "      <td>...</td>\n",
       "      <td>...</td>\n",
       "      <td>...</td>\n",
       "      <td>...</td>\n",
       "      <td>...</td>\n",
       "      <td>...</td>\n",
       "      <td>...</td>\n",
       "      <td>...</td>\n",
       "      <td>...</td>\n",
       "    </tr>\n",
       "    <tr>\n",
       "      <th>49987</th>\n",
       "      <td>-0.600700</td>\n",
       "      <td>7.052864e-01</td>\n",
       "      <td>-0.336298</td>\n",
       "      <td>-0.443437</td>\n",
       "      <td>-0.778038</td>\n",
       "      <td>1.053733</td>\n",
       "      <td>-0.029305</td>\n",
       "      <td>-1.296892</td>\n",
       "      <td>0.898875</td>\n",
       "      <td>1.449035</td>\n",
       "      <td>1.983695</td>\n",
       "      <td>-0.935467</td>\n",
       "    </tr>\n",
       "    <tr>\n",
       "      <th>49988</th>\n",
       "      <td>-0.337051</td>\n",
       "      <td>-2.766705e-13</td>\n",
       "      <td>-0.336298</td>\n",
       "      <td>-0.443437</td>\n",
       "      <td>-0.778038</td>\n",
       "      <td>-1.643294</td>\n",
       "      <td>-1.015717</td>\n",
       "      <td>-1.745548</td>\n",
       "      <td>0.367144</td>\n",
       "      <td>-0.690114</td>\n",
       "      <td>-0.504110</td>\n",
       "      <td>-0.935467</td>\n",
       "    </tr>\n",
       "    <tr>\n",
       "      <th>49989</th>\n",
       "      <td>-0.600700</td>\n",
       "      <td>7.052864e-01</td>\n",
       "      <td>-0.336298</td>\n",
       "      <td>-0.443437</td>\n",
       "      <td>1.285284</td>\n",
       "      <td>1.053733</td>\n",
       "      <td>-0.339420</td>\n",
       "      <td>0.497734</td>\n",
       "      <td>0.367144</td>\n",
       "      <td>-0.690114</td>\n",
       "      <td>-0.504110</td>\n",
       "      <td>1.068985</td>\n",
       "    </tr>\n",
       "    <tr>\n",
       "      <th>49990</th>\n",
       "      <td>-0.073401</td>\n",
       "      <td>-2.834524e+00</td>\n",
       "      <td>-0.336298</td>\n",
       "      <td>-0.443437</td>\n",
       "      <td>-0.778038</td>\n",
       "      <td>1.053733</td>\n",
       "      <td>-0.213272</td>\n",
       "      <td>-2.867189</td>\n",
       "      <td>-1.228047</td>\n",
       "      <td>-0.690114</td>\n",
       "      <td>-0.504110</td>\n",
       "      <td>-0.935467</td>\n",
       "    </tr>\n",
       "    <tr>\n",
       "      <th>49991</th>\n",
       "      <td>-0.600700</td>\n",
       "      <td>-2.766705e-13</td>\n",
       "      <td>-0.336298</td>\n",
       "      <td>-0.443437</td>\n",
       "      <td>-0.778038</td>\n",
       "      <td>-1.643294</td>\n",
       "      <td>-0.404247</td>\n",
       "      <td>0.497734</td>\n",
       "      <td>0.898875</td>\n",
       "      <td>1.449035</td>\n",
       "      <td>-0.504110</td>\n",
       "      <td>-0.935467</td>\n",
       "    </tr>\n",
       "  </tbody>\n",
       "</table>\n",
       "<p>49992 rows × 12 columns</p>\n",
       "</div>"
      ],
      "text/plain": [
       "       trips_in_first_30_days  avg_rating_of_driver  avg_surge  surge_pct  \\\n",
       "0                    0.453898          1.743149e-01   0.113444   0.328110   \n",
       "1                   -0.600700          7.052864e-01  -0.336298  -0.443437   \n",
       "2                    0.190248         -5.336471e-01  -0.336298  -0.443437   \n",
       "3                    1.772145         -2.675590e-03   0.293341   0.558572   \n",
       "4                    3.090392         -3.566566e-01   0.518212   0.147749   \n",
       "...                       ...                   ...        ...        ...   \n",
       "49987               -0.600700          7.052864e-01  -0.336298  -0.443437   \n",
       "49988               -0.337051         -2.766705e-13  -0.336298  -0.443437   \n",
       "49989               -0.600700          7.052864e-01  -0.336298  -0.443437   \n",
       "49990               -0.073401         -2.834524e+00  -0.336298  -0.443437   \n",
       "49991               -0.600700         -2.766705e-13  -0.336298  -0.443437   \n",
       "\n",
       "       ultimate_black_user  weekday_pct  avg_dist  avg_rating_by_driver  \\\n",
       "0                 1.285284    -0.397268 -0.372710              0.497734   \n",
       "1                -0.778038    -0.294781  0.431488              0.497734   \n",
       "2                -0.778038     1.053733 -0.880808              0.497734   \n",
       "3                 1.285284     0.514328 -0.602230              0.273405   \n",
       "4                -0.778038     0.579056 -0.467321              0.273405   \n",
       "...                    ...          ...       ...                   ...   \n",
       "49987            -0.778038     1.053733 -0.029305             -1.296892   \n",
       "49988            -0.778038    -1.643294 -1.015717             -1.745548   \n",
       "49989             1.285284     1.053733 -0.339420              0.497734   \n",
       "49990            -0.778038     1.053733 -0.213272             -2.867189   \n",
       "49991            -0.778038    -1.643294 -0.404247              0.497734   \n",
       "\n",
       "       signup_day  signup_day_is_weekend  city_King's Landing  city_Winterfell  \n",
       "0        0.898875               1.449035             1.983695        -0.935467  \n",
       "1       -0.696317              -0.690114            -0.504110        -0.935467  \n",
       "2       -1.759778              -0.690114            -0.504110        -0.935467  \n",
       "3        0.367144              -0.690114             1.983695        -0.935467  \n",
       "4       -1.759778              -0.690114            -0.504110         1.068985  \n",
       "...           ...                    ...                  ...              ...  \n",
       "49987    0.898875               1.449035             1.983695        -0.935467  \n",
       "49988    0.367144              -0.690114            -0.504110        -0.935467  \n",
       "49989    0.367144              -0.690114            -0.504110         1.068985  \n",
       "49990   -1.228047              -0.690114            -0.504110        -0.935467  \n",
       "49991    0.898875               1.449035            -0.504110        -0.935467  \n",
       "\n",
       "[49992 rows x 12 columns]"
      ]
     },
     "execution_count": 242,
     "metadata": {},
     "output_type": "execute_result"
    }
   ],
   "source": [
    "X_scaled"
   ]
  },
  {
   "cell_type": "code",
   "execution_count": 245,
   "metadata": {},
   "outputs": [
    {
     "name": "stdout",
     "output_type": "stream",
     "text": [
      "(37494, 12)\n",
      "(12498, 12)\n",
      "(37494,)\n",
      "(12498,)\n"
     ]
    }
   ],
   "source": [
    "# Split train and test data\n",
    "X_train, X_test, y_train, y_test = train_test_split(X_scaled,\n",
    "                                                    y,\n",
    "                                                    stratify=y,\n",
    "                                                    test_size=0.25,\n",
    "                                                    random_state=10)\n",
    "print(X_train.shape)\n",
    "print(X_test.shape)\n",
    "print(y_train.shape)\n",
    "print(y_test.shape)"
   ]
  },
  {
   "cell_type": "markdown",
   "metadata": {},
   "source": [
    "**Function definition for modeling**"
   ]
  },
  {
   "cell_type": "code",
   "execution_count": 253,
   "metadata": {},
   "outputs": [],
   "source": [
    "# Defining a function for classifier\n",
    "def do_classify(clf, parameters,xtrain,ytrain,xtest,ytest):\n",
    "    clf = cv_optimize(clf, parameters, xtrain, ytrain)\n",
    "    clf=clf.fit(xtrain, ytrain)\n",
    "    training_accuracy = clf.score(xtrain, ytrain)\n",
    "    test_accuracy = clf.score(xtest, ytest)\n",
    "    print(\"Accuracy on training data: {:0.2f}\".format(training_accuracy))\n",
    "    print(\"Accuracy on test data:     {:0.2f}\".format(test_accuracy))\n",
    "    y_pred = clf.predict(xtest)\n",
    "    pl = confusion_matrix(ytest,y_pred)\n",
    "    ax = sns.heatmap(pl, annot=True, fmt='', cmap='Blues')\n",
    "    ax.set_xlabel('Predicted Label')\n",
    "    ax.set_ylabel('Actual Label')\n",
    "    print(classification_report(ytest,y_pred))\n",
    "    return "
   ]
  },
  {
   "cell_type": "code",
   "execution_count": 246,
   "metadata": {},
   "outputs": [],
   "source": [
    "# Defining a function for grid search\n",
    "def cv_optimize(clf, parameters, Xtrain, ytrain, n_folds=5):\n",
    "    gs = GridSearchCV(clf, param_grid=parameters, cv=n_folds)\n",
    "    gs.fit(Xtrain, ytrain)\n",
    "    print(\"BEST PARAMS\", gs.best_params_)\n",
    "    best = gs.best_estimator_\n",
    "    return best"
   ]
  },
  {
   "cell_type": "code",
   "execution_count": 249,
   "metadata": {},
   "outputs": [],
   "source": [
    "# Defining a function for cross validation\n",
    "def cv_score(clf, x, y, score_func='accuracy'):\n",
    "    nfold = 5\n",
    "    kfold = KFold(n_splits=nfold)\n",
    "    result = cross_val_score(clf,x,y,cv = kfold,scoring =score_func)\n",
    "    return result.mean()"
   ]
  },
  {
   "cell_type": "code",
   "execution_count": 248,
   "metadata": {},
   "outputs": [
    {
     "name": "stdout",
     "output_type": "stream",
     "text": [
      "BEST PARAMS {'C': 10}\n",
      "Accuracy on training data: 0.70\n",
      "Accuracy on test data:     0.70\n",
      "              precision    recall  f1-score   support\n",
      "\n",
      "           0       0.71      0.87      0.78      7797\n",
      "           1       0.66      0.42      0.51      4701\n",
      "\n",
      "    accuracy                           0.70     12498\n",
      "   macro avg       0.69      0.65      0.65     12498\n",
      "weighted avg       0.69      0.70      0.68     12498\n",
      "\n"
     ]
    },
    {
     "data": {
      "image/png": "[encoded data removed]",
      "text/plain": [
       "<Figure size 432x288 with 2 Axes>"
      ]
     },
     "metadata": {
      "needs_background": "light"
     },
     "output_type": "display_data"
    }
   ],
   "source": [
    "# Funtion call with Logistic Regression\n",
    "do_classify(LogisticRegression(), {\"C\": [0.01, 0.1, 1, 10, 100]},X_train, y_train,X_test,y_test)"
   ]
  },
  {
   "cell_type": "markdown",
   "metadata": {},
   "source": [
    "This poor recall score could be due the imbalanced class"
   ]
  },
  {
   "cell_type": "code",
   "execution_count": 254,
   "metadata": {},
   "outputs": [
    {
     "name": "stdout",
     "output_type": "stream",
     "text": [
      "Accuracy: 70.433%\n"
     ]
    }
   ],
   "source": [
    "# Logistic Regression with the best parameter\n",
    "c = 0.1\n",
    "model_l = LogisticRegression(C=c)\n",
    "model_l.fit(X_train, y_train)\n",
    "y_pred_l = model_l.predict(X_test)\n",
    "\n",
    "accuracy_level = cv_score(model_l,X_train,y_train)\n",
    "print((\"Accuracy: %.3f%%\") % (accuracy_level*100.0))"
   ]
  },
  {
   "cell_type": "code",
   "execution_count": 255,
   "metadata": {},
   "outputs": [],
   "source": [
    "# Prediction with the selected model\n",
    "y_prob_l = model_l.predict_proba(X_test)[:,1]\n",
    "fpr_l , tpr_l , thresholds = roc_curve(y_test,y_prob_l)\n",
    "auc_l = roc_auc_score(y_test,y_pred_l)"
   ]
  },
  {
   "cell_type": "code",
   "execution_count": 256,
   "metadata": {},
   "outputs": [],
   "source": [
    "#Updating the table with the best model results\n",
    "result_df = pd.DataFrame(columns=['classifiers', 'Accuracy','AUC'])\n",
    "\n",
    "result_df=result_df.append({'classifiers':'LogisticRegression','Accuracy': round(accuracy_level*100.0,2),\n",
    "                                                                                'AUC':auc_l}, ignore_index=True)"
   ]
  },
  {
   "cell_type": "code",
   "execution_count": 262,
   "metadata": {},
   "outputs": [
    {
     "name": "stdout",
     "output_type": "stream",
     "text": [
      "BEST PARAMS {'criterion': 'entropy', 'max_depth': 8, 'max_features': None, 'n_estimators': 50}\n",
      "Accuracy on training data: 0.79\n",
      "Accuracy on test data:     0.76\n",
      "              precision    recall  f1-score   support\n",
      "\n",
      "           0       0.79      0.84      0.82      7797\n",
      "           1       0.71      0.63      0.67      4701\n",
      "\n",
      "    accuracy                           0.76     12498\n",
      "   macro avg       0.75      0.74      0.74     12498\n",
      "weighted avg       0.76      0.76      0.76     12498\n",
      "\n"
     ]
    },
    {
     "data": {
      "image/png": "[encoded data removed]",
      "text/plain": [
       "<Figure size 432x288 with 2 Axes>"
      ]
     },
     "metadata": {
      "needs_background": "light"
     },
     "output_type": "display_data"
    }
   ],
   "source": [
    "# Setting up the parameters for grid search\n",
    "param_grid = {'n_estimators':[50,100],'max_depth': [2, 4, 8], 'max_features': [None, 'sqrt', 'log2'],'criterion' :['gini', 'entropy']}\n",
    "\n",
    "# Calling  the classify function with the grid param\n",
    "do_classify(RandomForestClassifier(), param_grid ,X_train, y_train, X_test,y_test)"
   ]
  },
  {
   "cell_type": "code",
   "execution_count": 265,
   "metadata": {},
   "outputs": [
    {
     "name": "stdout",
     "output_type": "stream",
     "text": [
      "Accuracy: 77.250%\n"
     ]
    }
   ],
   "source": [
    "model_RF = RandomForestClassifier(n_estimators=50,criterion= 'entropy', max_depth= 8)\n",
    "model_RF.fit(X_train, y_train)\n",
    "y_pred_rf = model_RF.predict(X_test)\n",
    "\n",
    "accuracy_level_rf = cv_score(model_RF,X_train,y_train)\n",
    "print((\"Accuracy: %.3f%%\") % (accuracy_level_rf*100.0))\n",
    "\n"
   ]
  },
  {
   "cell_type": "code",
   "execution_count": 266,
   "metadata": {},
   "outputs": [],
   "source": [
    "y_prob_rf = model_RF.predict_proba(X_test)[:,1]\n",
    "fpr_rf , tpr_rf , thresholds = roc_curve(y_test,y_prob_rf)\n",
    "\n",
    "auc_rf = roc_auc_score(y_test,y_pred_rf)"
   ]
  },
  {
   "cell_type": "code",
   "execution_count": 267,
   "metadata": {},
   "outputs": [],
   "source": [
    "#Updating the table with the best model results\n",
    "result_df=result_df.append({'classifiers':'RandomForest','Accuracy': round(accuracy_level_rf*100.0,2),\n",
    "                                                                                'AUC':auc_rf}, ignore_index=True)"
   ]
  },
  {
   "cell_type": "code",
   "execution_count": 269,
   "metadata": {},
   "outputs": [
    {
     "name": "stdout",
     "output_type": "stream",
     "text": [
      "12\n"
     ]
    },
    {
     "data": {
      "image/png": "[encoded data removed]",
      "text/plain": [
       "<Figure size 720x720 with 1 Axes>"
      ]
     },
     "metadata": {
      "needs_background": "light"
     },
     "output_type": "display_data"
    }
   ],
   "source": [
    "feature_importance = model_RF.feature_importances_\n",
    "# make importances relative to max importance\n",
    "feature_importance = 100.0 * (feature_importance / feature_importance.max())[:30]\n",
    "sorted_idx = np.argsort(feature_importance)[:30]\n",
    "\n",
    "pos = np.arange(sorted_idx.shape[0]) + .5\n",
    "print(pos.size)\n",
    "sorted_idx.size\n",
    "plt.figure(figsize=(10,10))\n",
    "plt.barh(pos, feature_importance[sorted_idx], align='center')\n",
    "plt.yticks(pos, X_scaled.columns[sorted_idx])\n",
    "plt.xlabel('Relative Importance')\n",
    "plt.title('Variable Importance')\n",
    "plt.show()"
   ]
  },
  {
   "cell_type": "code",
   "execution_count": 271,
   "metadata": {},
   "outputs": [],
   "source": [
    "# Import XGB classifier\n",
    "import xgboost as xgb\n",
    "from xgboost.sklearn import XGBClassifier"
   ]
  },
  {
   "cell_type": "code",
   "execution_count": 273,
   "metadata": {},
   "outputs": [],
   "source": [
    "param_grid = {'n_estimators':[50, 150],'max_depth':[3,5,7],\n",
    "              'learning_rate': [0.001,0.05,0.1,0.2],'reg_alpha':[0.001,0.005,0.01,0.05],\n",
    "              'colsample_bytree': [0.50,1]}\n",
    "     \n",
    "gsearch = GridSearchCV(estimator = XGBClassifier(objective='binary:logistic'), param_grid=param_grid,n_jobs=4, cv=5)"
   ]
  },
  {
   "cell_type": "code",
   "execution_count": 275,
   "metadata": {},
   "outputs": [
    {
     "name": "stderr",
     "output_type": "stream",
     "text": [
      "C:\\Users\\Gayathri\\anaconda3\\lib\\site-packages\\xgboost\\sklearn.py:1146: UserWarning: The use of label encoder in XGBClassifier is deprecated and will be removed in a future release. To remove this warning, do the following: 1) Pass option use_label_encoder=False when constructing XGBClassifier object; and 2) Encode your labels (y) as integers starting with 0, i.e. 0, 1, 2, ..., [num_class - 1].\n",
      "  warnings.warn(label_encoder_deprecation_msg, UserWarning)\n"
     ]
    },
    {
     "name": "stdout",
     "output_type": "stream",
     "text": [
      "[15:39:48] WARNING: C:/Users/Administrator/workspace/xgboost-win64_release_1.4.0/src/learner.cc:1095: Starting in XGBoost 1.3.0, the default evaluation metric used with the objective 'binary:logistic' was changed from 'error' to 'logloss'. Explicitly set eval_metric if you'd like to restore the old behavior.\n",
      "BEST PARAMS {'colsample_bytree': 0.5, 'learning_rate': 0.2, 'max_depth': 5, 'n_estimators': 150, 'reg_alpha': 0.01}\n",
      "Accuracy on training data: 0.81\n",
      "Accuracy on test data:     0.78\n",
      "              precision    recall  f1-score   support\n",
      "\n",
      "           0       0.80      0.85      0.83      7797\n",
      "           1       0.73      0.65      0.69      4701\n",
      "\n",
      "    accuracy                           0.78     12498\n",
      "   macro avg       0.77      0.75      0.76     12498\n",
      "weighted avg       0.77      0.78      0.77     12498\n",
      "\n"
     ]
    },
    {
     "data": {
      "image/png": "[encoded data removed]",
      "text/plain": [
       "<Figure size 432x288 with 2 Axes>"
      ]
     },
     "metadata": {
      "needs_background": "light"
     },
     "output_type": "display_data"
    }
   ],
   "source": [
    "gsearch.fit(X_train,y_train)\n",
    "print(\"BEST PARAMS\", gsearch.best_params_)\n",
    "\n",
    "training_accuracy = gsearch.score(X_train,y_train)\n",
    "test_accuracy = gsearch.score(X_test, y_test)\n",
    "print(\"Accuracy on training data: {:0.2f}\".format(training_accuracy))\n",
    "print(\"Accuracy on test data:     {:0.2f}\".format(test_accuracy))\n",
    "\n",
    "y_pred = gsearch.predict(X_test)\n",
    "pl = confusion_matrix(y_test,y_pred)\n",
    "ax = sns.heatmap(pl, annot=True, fmt='', cmap='Blues')\n",
    "ax.set_xlabel('Predicted Label')\n",
    "ax.set_ylabel('Actual Label')\n",
    "print(classification_report(y_test,y_pred))"
   ]
  },
  {
   "cell_type": "code",
   "execution_count": 276,
   "metadata": {},
   "outputs": [
    {
     "name": "stderr",
     "output_type": "stream",
     "text": [
      "C:\\Users\\Gayathri\\anaconda3\\lib\\site-packages\\xgboost\\sklearn.py:1146: UserWarning: The use of label encoder in XGBClassifier is deprecated and will be removed in a future release. To remove this warning, do the following: 1) Pass option use_label_encoder=False when constructing XGBClassifier object; and 2) Encode your labels (y) as integers starting with 0, i.e. 0, 1, 2, ..., [num_class - 1].\n",
      "  warnings.warn(label_encoder_deprecation_msg, UserWarning)\n"
     ]
    },
    {
     "name": "stdout",
     "output_type": "stream",
     "text": [
      "[15:41:26] WARNING: C:/Users/Administrator/workspace/xgboost-win64_release_1.4.0/src/learner.cc:1095: Starting in XGBoost 1.3.0, the default evaluation metric used with the objective 'binary:logistic' was changed from 'error' to 'logloss'. Explicitly set eval_metric if you'd like to restore the old behavior.\n",
      "Accuracy: 77.204%\n"
     ]
    }
   ],
   "source": [
    "model_XGB = XGBClassifier(objective='binary:logistic',learning_rate=0.5,n_estimators=150, max_depth= 5, colsample_bytree=0.5,reg_alpha=0.01)\n",
    "model_XGB.fit(X_train, y_train)\n",
    "y_pred_xgb = model_XGB.predict(X_test)\n",
    "\n",
    "accuracy_level_xgb = accuracy_score(y_test,y_pred_xgb)\n",
    "print((\"Accuracy: %.3f%%\") % (accuracy_level_xgb*100.0))"
   ]
  },
  {
   "cell_type": "code",
   "execution_count": 277,
   "metadata": {},
   "outputs": [],
   "source": [
    "y_prob_xgb = model_XGB.predict_proba(X_test)[:,1]\n",
    "fpr_xgb , tpr_xgb , thresholds = roc_curve(y_test,y_prob_xgb)\n",
    "auc_xgb = roc_auc_score(y_test,y_pred_xgb)"
   ]
  },
  {
   "cell_type": "code",
   "execution_count": 278,
   "metadata": {},
   "outputs": [],
   "source": [
    "#Updating the table with the best model results\n",
    "result_df=result_df.append({'classifiers':'XGBoost','Accuracy': round(accuracy_level_xgb*100.0,2),\n",
    "                                                                                'AUC':auc_xgb}, ignore_index=True)"
   ]
  },
  {
   "cell_type": "code",
   "execution_count": 279,
   "metadata": {},
   "outputs": [
    {
     "name": "stdout",
     "output_type": "stream",
     "text": [
      "12\n"
     ]
    },
    {
     "data": {
      "image/png": "[encoded data removed]",
      "text/plain": [
       "<Figure size 720x720 with 1 Axes>"
      ]
     },
     "metadata": {
      "needs_background": "light"
     },
     "output_type": "display_data"
    }
   ],
   "source": [
    "feature_importance = model_XGB.feature_importances_\n",
    "# make importances relative to max importance\n",
    "feature_importance = 100.0 * (feature_importance / feature_importance.max())[:30]\n",
    "sorted_idx = np.argsort(feature_importance)[:30]\n",
    "\n",
    "pos = np.arange(sorted_idx.shape[0]) + .5\n",
    "print(pos.size)\n",
    "sorted_idx.size\n",
    "plt.figure(figsize=(10,10))\n",
    "plt.barh(pos, feature_importance[sorted_idx], align='center')\n",
    "plt.yticks(pos, X.columns[sorted_idx])\n",
    "plt.xlabel('Relative Importance')\n",
    "plt.title('Variable Importance')\n",
    "plt.show()"
   ]
  },
  {
   "cell_type": "code",
   "execution_count": 280,
   "metadata": {},
   "outputs": [
    {
     "data": {
      "image/png": "[encoded data removed]",
      "text/plain": [
       "<Figure size 864x432 with 1 Axes>"
      ]
     },
     "metadata": {
      "needs_background": "light"
     },
     "output_type": "display_data"
    }
   ],
   "source": [
    "plt.figure(figsize = (12,6))\n",
    "\n",
    "plt.plot(fpr_l, tpr_l, 'k',label= \"LogisticRegression AUC:  \"+str(auc_l))\n",
    "plt.plot(fpr_rf, tpr_rf, 'r',label= \"RandomForest AUC:  \"+str(auc_rf))\n",
    "plt.plot(fpr_xgb, tpr_xgb, 'g',label= \"XGBoosting AUC:  \"+str(auc_xgb))\n",
    "plt.xlabel('False Positive Rate')\n",
    "plt.ylabel('True Positive Rate')\n",
    "plt.plot([0,1],[0,1],'k--')\n",
    "plt.legend()\n",
    "plt.show()"
   ]
  },
  {
   "cell_type": "code",
   "execution_count": 281,
   "metadata": {},
   "outputs": [
    {
     "data": {
      "text/html": [
       "<div>\n",
       "<style scoped>\n",
       "    .dataframe tbody tr th:only-of-type {\n",
       "        vertical-align: middle;\n",
       "    }\n",
       "\n",
       "    .dataframe tbody tr th {\n",
       "        vertical-align: top;\n",
       "    }\n",
       "\n",
       "    .dataframe thead th {\n",
       "        text-align: right;\n",
       "    }\n",
       "</style>\n",
       "<table border=\"1\" class=\"dataframe\">\n",
       "  <thead>\n",
       "    <tr style=\"text-align: right;\">\n",
       "      <th></th>\n",
       "      <th>classifiers</th>\n",
       "      <th>Accuracy</th>\n",
       "      <th>AUC</th>\n",
       "    </tr>\n",
       "  </thead>\n",
       "  <tbody>\n",
       "    <tr>\n",
       "      <th>0</th>\n",
       "      <td>LogisticRegression</td>\n",
       "      <td>70.43</td>\n",
       "      <td>0.644933</td>\n",
       "    </tr>\n",
       "    <tr>\n",
       "      <th>1</th>\n",
       "      <td>RandomForest</td>\n",
       "      <td>77.25</td>\n",
       "      <td>0.732227</td>\n",
       "    </tr>\n",
       "    <tr>\n",
       "      <th>2</th>\n",
       "      <td>XGBoost</td>\n",
       "      <td>77.20</td>\n",
       "      <td>0.745632</td>\n",
       "    </tr>\n",
       "  </tbody>\n",
       "</table>\n",
       "</div>"
      ],
      "text/plain": [
       "          classifiers  Accuracy       AUC\n",
       "0  LogisticRegression     70.43  0.644933\n",
       "1        RandomForest     77.25  0.732227\n",
       "2             XGBoost     77.20  0.745632"
      ]
     },
     "execution_count": 281,
     "metadata": {},
     "output_type": "execute_result"
    }
   ],
   "source": [
    "result_df"
   ]
  },
  {
   "cell_type": "markdown",
   "metadata": {},
   "source": [
    "The XGBoost  models offer similar performance. Looking at precision and recall metrics, XGBoost model has recall of 65%  on the inactive users and 65% for retained (active). This implies a f1-score of about 83% for the inactive riders and 69% for the active riders.\n",
    "\n",
    "The difference in performance is mainly due to the class imbalance of the dataset. However, the XGBoost model turns out to be very useful in predicting potential inactive users (high recall), hence Ultimate Technologies could use this tool to identify customers which are likely to be inactive in the future.\n",
    "The results are satisfying, especially given the modest amount of data considered. The classification model can be developed with sampling the imblanced classed with sampling techniques to see whether the model performance can be improved."
   ]
  },
  {
   "cell_type": "code",
   "execution_count": null,
   "metadata": {},
   "outputs": [],
   "source": []
  }
 ],
 "metadata": {
  "kernelspec": {
   "display_name": "Python 3",
   "language": "python",
   "name": "python3"
  },
  "language_info": {
   "codemirror_mode": {
    "name": "ipython",
    "version": 3
   },
   "file_extension": ".py",
   "mimetype": "text/x-python",
   "name": "python",
   "nbconvert_exporter": "python",
   "pygments_lexer": "ipython3",
   "version": "3.8.5"
  }
 },
 "nbformat": 4,
 "nbformat_minor": 4
}
