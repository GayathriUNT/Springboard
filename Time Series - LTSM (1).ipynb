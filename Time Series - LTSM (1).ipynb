{
 "cells": [
  {
   "cell_type": "markdown",
   "metadata": {},
   "source": [
    "# Time Series - LTSM"
   ]
  },
  {
   "cell_type": "markdown",
   "metadata": {},
   "source": [
    "## 1. Sourcing and Loading\n",
    "\n",
    "###  Load relevant libraries "
   ]
  },
  {
   "cell_type": "code",
   "execution_count": 1,
   "metadata": {},
   "outputs": [],
   "source": [
    "import pandas as pd\n",
    "import matplotlib.pyplot as plt\n",
    "\n",
    "import statsmodels.api as sm\n",
    "from statsmodels.tsa.arima_process import ArmaProcess\n",
    "from statsmodels.tsa.stattools import adfuller\n",
    "from statsmodels.graphics.tsaplots import plot_acf\n",
    "from statsmodels.tsa.arima_model import ARMA\n",
    "import datetime"
   ]
  },
  {
   "cell_type": "code",
   "execution_count": 3,
   "metadata": {},
   "outputs": [],
   "source": [
    "filename = 'C:/Users/gayat/Desktop/CowboyCigsData.csv'\n",
    "\n",
    "cigData = pd.read_csv(filename)"
   ]
  },
  {
   "cell_type": "markdown",
   "metadata": {},
   "source": [
    "### 1c. Explore the data\n",
    "We now need to check whether the data conduces to a time series style analysis."
   ]
  },
  {
   "cell_type": "code",
   "execution_count": 4,
   "metadata": {
    "scrolled": true
   },
   "outputs": [
    {
     "data": {
      "text/html": [
       "<div>\n",
       "<style scoped>\n",
       "    .dataframe tbody tr th:only-of-type {\n",
       "        vertical-align: middle;\n",
       "    }\n",
       "\n",
       "    .dataframe tbody tr th {\n",
       "        vertical-align: top;\n",
       "    }\n",
       "\n",
       "    .dataframe thead th {\n",
       "        text-align: right;\n",
       "    }\n",
       "</style>\n",
       "<table border=\"1\" class=\"dataframe\">\n",
       "  <thead>\n",
       "    <tr style=\"text-align: right;\">\n",
       "      <th></th>\n",
       "      <th>Unnamed: 0</th>\n",
       "      <th>Time</th>\n",
       "      <th>#CigSales</th>\n",
       "    </tr>\n",
       "  </thead>\n",
       "  <tbody>\n",
       "    <tr>\n",
       "      <th>0</th>\n",
       "      <td>0</td>\n",
       "      <td>1949-01</td>\n",
       "      <td>1000112</td>\n",
       "    </tr>\n",
       "    <tr>\n",
       "      <th>1</th>\n",
       "      <td>1</td>\n",
       "      <td>1949-02</td>\n",
       "      <td>1000118</td>\n",
       "    </tr>\n",
       "    <tr>\n",
       "      <th>2</th>\n",
       "      <td>2</td>\n",
       "      <td>1949-03</td>\n",
       "      <td>1000132</td>\n",
       "    </tr>\n",
       "    <tr>\n",
       "      <th>3</th>\n",
       "      <td>3</td>\n",
       "      <td>1949-04</td>\n",
       "      <td>1000129</td>\n",
       "    </tr>\n",
       "  </tbody>\n",
       "</table>\n",
       "</div>"
      ],
      "text/plain": [
       "   Unnamed: 0     Time  #CigSales\n",
       "0           0  1949-01    1000112\n",
       "1           1  1949-02    1000118\n",
       "2           2  1949-03    1000132\n",
       "3           3  1949-04    1000129"
      ]
     },
     "execution_count": 4,
     "metadata": {},
     "output_type": "execute_result"
    }
   ],
   "source": [
    "cigData.head(4)"
   ]
  },
  {
   "cell_type": "markdown",
   "metadata": {},
   "source": [
    "Check out the columns feature of the data"
   ]
  },
  {
   "cell_type": "code",
   "execution_count": 5,
   "metadata": {},
   "outputs": [
    {
     "data": {
      "text/plain": [
       "Index(['Unnamed: 0', 'Time', '#CigSales'], dtype='object')"
      ]
     },
     "execution_count": 5,
     "metadata": {},
     "output_type": "execute_result"
    }
   ],
   "source": [
    "cigData.columns"
   ]
  },
  {
   "cell_type": "markdown",
   "metadata": {},
   "source": [
    "Let's check out the data types of our columns."
   ]
  },
  {
   "cell_type": "code",
   "execution_count": 6,
   "metadata": {
    "scrolled": false
   },
   "outputs": [
    {
     "data": {
      "text/plain": [
       "Unnamed: 0     int64\n",
       "Time          object\n",
       "#CigSales      int64\n",
       "dtype: object"
      ]
     },
     "execution_count": 6,
     "metadata": {},
     "output_type": "execute_result"
    }
   ],
   "source": [
    "cigData.dtypes"
   ]
  },
  {
   "cell_type": "markdown",
   "metadata": {},
   "source": [
    "Check whether there are any null values. "
   ]
  },
  {
   "cell_type": "code",
   "execution_count": 7,
   "metadata": {},
   "outputs": [
    {
     "data": {
      "text/plain": [
       "Unnamed: 0    0\n",
       "Time          0\n",
       "#CigSales     0\n",
       "dtype: int64"
      ]
     },
     "execution_count": 7,
     "metadata": {},
     "output_type": "execute_result"
    }
   ],
   "source": [
    "cigData.isna().sum()"
   ]
  },
  {
   "cell_type": "markdown",
   "metadata": {},
   "source": [
    "## 2. Cleaning, transforming and visualizing"
   ]
  },
  {
   "cell_type": "markdown",
   "metadata": {},
   "source": [
    "### Dropping unwanted columns\n",
    "We need to cut that `Unnamed: 0` column. Delete it here."
   ]
  },
  {
   "cell_type": "code",
   "execution_count": 8,
   "metadata": {},
   "outputs": [],
   "source": [
    "cigData.drop(columns='Unnamed: 0',inplace=True)"
   ]
  },
  {
   "cell_type": "markdown",
   "metadata": {},
   "source": [
    "We can see that the `Time` column actually has the granularity of months. Change the name of that column to `Month`."
   ]
  },
  {
   "cell_type": "code",
   "execution_count": 9,
   "metadata": {},
   "outputs": [],
   "source": [
    "cigData.rename(columns={'Time':'Month'},inplace=True)"
   ]
  },
  {
   "cell_type": "markdown",
   "metadata": {},
   "source": [
    "Call a head() to check this has worked. "
   ]
  },
  {
   "cell_type": "code",
   "execution_count": 10,
   "metadata": {},
   "outputs": [
    {
     "data": {
      "text/html": [
       "<div>\n",
       "<style scoped>\n",
       "    .dataframe tbody tr th:only-of-type {\n",
       "        vertical-align: middle;\n",
       "    }\n",
       "\n",
       "    .dataframe tbody tr th {\n",
       "        vertical-align: top;\n",
       "    }\n",
       "\n",
       "    .dataframe thead th {\n",
       "        text-align: right;\n",
       "    }\n",
       "</style>\n",
       "<table border=\"1\" class=\"dataframe\">\n",
       "  <thead>\n",
       "    <tr style=\"text-align: right;\">\n",
       "      <th></th>\n",
       "      <th>Month</th>\n",
       "      <th>#CigSales</th>\n",
       "    </tr>\n",
       "  </thead>\n",
       "  <tbody>\n",
       "    <tr>\n",
       "      <th>0</th>\n",
       "      <td>1949-01</td>\n",
       "      <td>1000112</td>\n",
       "    </tr>\n",
       "    <tr>\n",
       "      <th>1</th>\n",
       "      <td>1949-02</td>\n",
       "      <td>1000118</td>\n",
       "    </tr>\n",
       "    <tr>\n",
       "      <th>2</th>\n",
       "      <td>1949-03</td>\n",
       "      <td>1000132</td>\n",
       "    </tr>\n",
       "    <tr>\n",
       "      <th>3</th>\n",
       "      <td>1949-04</td>\n",
       "      <td>1000129</td>\n",
       "    </tr>\n",
       "    <tr>\n",
       "      <th>4</th>\n",
       "      <td>1949-05</td>\n",
       "      <td>1000121</td>\n",
       "    </tr>\n",
       "  </tbody>\n",
       "</table>\n",
       "</div>"
      ],
      "text/plain": [
       "     Month  #CigSales\n",
       "0  1949-01    1000112\n",
       "1  1949-02    1000118\n",
       "2  1949-03    1000132\n",
       "3  1949-04    1000129\n",
       "4  1949-05    1000121"
      ]
     },
     "execution_count": 10,
     "metadata": {},
     "output_type": "execute_result"
    }
   ],
   "source": [
    "cigData.head(5)"
   ]
  },
  {
   "cell_type": "markdown",
   "metadata": {},
   "source": [
    "###  Type conversions "
   ]
  },
  {
   "cell_type": "code",
   "execution_count": 11,
   "metadata": {},
   "outputs": [],
   "source": [
    "cigData['Month'] = pd.to_datetime(cigData['Month'])"
   ]
  },
  {
   "cell_type": "code",
   "execution_count": 12,
   "metadata": {},
   "outputs": [],
   "source": [
    "cigData.set_index('Month',inplace=True)"
   ]
  },
  {
   "cell_type": "code",
   "execution_count": 13,
   "metadata": {},
   "outputs": [
    {
     "data": {
      "text/html": [
       "<div>\n",
       "<style scoped>\n",
       "    .dataframe tbody tr th:only-of-type {\n",
       "        vertical-align: middle;\n",
       "    }\n",
       "\n",
       "    .dataframe tbody tr th {\n",
       "        vertical-align: top;\n",
       "    }\n",
       "\n",
       "    .dataframe thead th {\n",
       "        text-align: right;\n",
       "    }\n",
       "</style>\n",
       "<table border=\"1\" class=\"dataframe\">\n",
       "  <thead>\n",
       "    <tr style=\"text-align: right;\">\n",
       "      <th></th>\n",
       "      <th>#CigSales</th>\n",
       "    </tr>\n",
       "    <tr>\n",
       "      <th>Month</th>\n",
       "      <th></th>\n",
       "    </tr>\n",
       "  </thead>\n",
       "  <tbody>\n",
       "    <tr>\n",
       "      <th>1949-01-01</th>\n",
       "      <td>1000112</td>\n",
       "    </tr>\n",
       "    <tr>\n",
       "      <th>1949-02-01</th>\n",
       "      <td>1000118</td>\n",
       "    </tr>\n",
       "    <tr>\n",
       "      <th>1949-03-01</th>\n",
       "      <td>1000132</td>\n",
       "    </tr>\n",
       "    <tr>\n",
       "      <th>1949-04-01</th>\n",
       "      <td>1000129</td>\n",
       "    </tr>\n",
       "  </tbody>\n",
       "</table>\n",
       "</div>"
      ],
      "text/plain": [
       "            #CigSales\n",
       "Month                \n",
       "1949-01-01    1000112\n",
       "1949-02-01    1000118\n",
       "1949-03-01    1000132\n",
       "1949-04-01    1000129"
      ]
     },
     "execution_count": 13,
     "metadata": {},
     "output_type": "execute_result"
    }
   ],
   "source": [
    "cigData.head(4)"
   ]
  },
  {
   "cell_type": "markdown",
   "metadata": {},
   "source": [
    "###  Making a predictor variable `y`"
   ]
  },
  {
   "cell_type": "markdown",
   "metadata": {},
   "source": [
    "The data is now indexed by date, as time series data ought to be.\n",
    "\n",
    "Since we want to predict the number of cigarette sales at Cowboy cigarettes, and `y` is typically used to signify a predictor variable, let's create a new variable called `y` and assign the indexed #Passenger column. "
   ]
  },
  {
   "cell_type": "code",
   "execution_count": 14,
   "metadata": {},
   "outputs": [],
   "source": [
    "y = cigData['#CigSales']"
   ]
  },
  {
   "cell_type": "markdown",
   "metadata": {},
   "source": [
    "Check the type of our new variable. "
   ]
  },
  {
   "cell_type": "code",
   "execution_count": 15,
   "metadata": {
    "scrolled": true
   },
   "outputs": [
    {
     "data": {
      "text/plain": [
       "Month\n",
       "1949-01-01    1000112\n",
       "1949-02-01    1000118\n",
       "1949-03-01    1000132\n",
       "1949-04-01    1000129\n",
       "1949-05-01    1000121\n",
       "               ...   \n",
       "1960-08-01    1000606\n",
       "1960-09-01    1000508\n",
       "1960-10-01    1000461\n",
       "1960-11-01    1000390\n",
       "1960-12-01    1000432\n",
       "Name: #CigSales, Length: 144, dtype: int64"
      ]
     },
     "execution_count": 15,
     "metadata": {},
     "output_type": "execute_result"
    }
   ],
   "source": [
    "y"
   ]
  },
  {
   "cell_type": "markdown",
   "metadata": {},
   "source": [
    "### . Getting summary statistics for `y`"
   ]
  },
  {
   "cell_type": "markdown",
   "metadata": {},
   "source": [
    "Get the summary statistics of our data here. "
   ]
  },
  {
   "cell_type": "code",
   "execution_count": 16,
   "metadata": {},
   "outputs": [
    {
     "data": {
      "text/plain": [
       "count    1.440000e+02\n",
       "mean     1.000280e+06\n",
       "std      1.199663e+02\n",
       "min      1.000104e+06\n",
       "25%      1.000180e+06\n",
       "50%      1.000266e+06\n",
       "75%      1.000360e+06\n",
       "max      1.000622e+06\n",
       "Name: #CigSales, dtype: float64"
      ]
     },
     "execution_count": 16,
     "metadata": {},
     "output_type": "execute_result"
    }
   ],
   "source": [
    "y.describe()"
   ]
  },
  {
   "cell_type": "markdown",
   "metadata": {},
   "source": [
    "###  Plotting `y`"
   ]
  },
  {
   "cell_type": "code",
   "execution_count": 17,
   "metadata": {},
   "outputs": [
    {
     "data": {
      "text/plain": [
       "[<matplotlib.lines.Line2D at 0x1be5878a490>]"
      ]
     },
     "execution_count": 17,
     "metadata": {},
     "output_type": "execute_result"
    },
    {
     "data": {
      "image/png": "[encoded data removed]",
      "text/plain": [
       "<Figure size 432x288 with 1 Axes>"
      ]
     },
     "metadata": {
      "needs_background": "light"
     },
     "output_type": "display_data"
    }
   ],
   "source": [
    "plt.plot(y)"
   ]
  },
  {
   "cell_type": "markdown",
   "metadata": {},
   "source": [
    "In our plot, we can see that both the mean and the variance increase as time progresses. At the moment, our data has neither a constant mean, nor a constant variance."
   ]
  },
  {
   "cell_type": "markdown",
   "metadata": {},
   "source": [
    "\n",
    "### 3. Decomposition\n"
   ]
  },
  {
   "cell_type": "code",
   "execution_count": 18,
   "metadata": {
    "scrolled": true
   },
   "outputs": [],
   "source": [
    "from statsmodels.tsa.seasonal import seasonal_decompose\n",
    "\n"
   ]
  },
  {
   "cell_type": "code",
   "execution_count": 19,
   "metadata": {},
   "outputs": [
    {
     "data": {
      "text/plain": [
       "<Figure size 432x288 with 0 Axes>"
      ]
     },
     "metadata": {},
     "output_type": "display_data"
    },
    {
     "data": {
      "image/png": "[encoded data removed]",
      "text/plain": [
       "<Figure size 1080x576 with 4 Axes>"
      ]
     },
     "metadata": {
      "needs_background": "light"
     },
     "output_type": "display_data"
    }
   ],
   "source": [
    "decomposition = seasonal_decompose(cigData)\n",
    "\n",
    "# Plot the original data, the trend, the seasonality, and the residuals \n",
    "fig = plt.figure()  \n",
    "fig = decomposition.plot()  \n",
    "fig.set_size_inches(15, 8)\n"
   ]
  },
  {
   "cell_type": "markdown",
   "metadata": {},
   "source": [
    "### Testing for stationarity with KPSS\n",
    "As you know, when doing time series analysis we always have to check for stationarity. Imprecisely, a time series dataset is stationary just if its statistical features don't change over time. A little more precisely, a stationary time series dataset will have constant mean, variance, and covariance.\n",
    "\n",
    "There are many ways to test for stationarity, but one of the most common is the KPSS test. The Null hypothesis of this test is that the time series data in question is stationary; hence, if the *p*-value is less than the significance level (typically 0.05, but we decide) then we reject the Null and infer that the data is not stationary."
   ]
  },
  {
   "cell_type": "code",
   "execution_count": 20,
   "metadata": {
    "scrolled": true
   },
   "outputs": [
    {
     "name": "stderr",
     "output_type": "stream",
     "text": [
      "C:\\ProgramData\\Anaconda3\\lib\\site-packages\\statsmodels\\tsa\\stattools.py:1875: FutureWarning: The behavior of using nlags=None will change in release 0.13.Currently nlags=None is the same as nlags=\"legacy\", and so a sample-size lag length is used. After the next release, the default will change to be the same as nlags=\"auto\" which uses an automatic lag length selection method. To silence this warning, either use \"auto\" or \"legacy\"\n",
      "  warnings.warn(msg, FutureWarning)\n",
      "C:\\ProgramData\\Anaconda3\\lib\\site-packages\\statsmodels\\tsa\\stattools.py:1906: InterpolationWarning: The test statistic is outside of the range of p-values available in the\n",
      "look-up table. The actual p-value is smaller than the p-value returned.\n",
      "\n",
      "  warnings.warn(\n"
     ]
    },
    {
     "data": {
      "text/plain": [
       "(1.0521750110138661,\n",
       " 0.01,\n",
       " 14,\n",
       " {'10%': 0.347, '5%': 0.463, '2.5%': 0.574, '1%': 0.739})"
      ]
     },
     "execution_count": 20,
     "metadata": {},
     "output_type": "execute_result"
    }
   ],
   "source": [
    "from statsmodels.tsa.stattools import kpss\n",
    "kpss(y)"
   ]
  },
  {
   "cell_type": "markdown",
   "metadata": {},
   "source": [
    "Since our p-value is less than 0.05, we should reject the Null hypothesis and deduce the non-stationarity of our data. \n",
    "\n"
   ]
  },
  {
   "cell_type": "markdown",
   "metadata": {},
   "source": [
    "### Testing for stationary with ADFuller "
   ]
  },
  {
   "cell_type": "code",
   "execution_count": 21,
   "metadata": {},
   "outputs": [],
   "source": [
    "from statsmodels.tsa.stattools import adfuller"
   ]
  },
  {
   "cell_type": "code",
   "execution_count": 22,
   "metadata": {},
   "outputs": [
    {
     "name": "stdout",
     "output_type": "stream",
     "text": [
      "(0.8153688792059381, 0.9918802434376393, 13, 130, {'1%': -3.4816817173418295, '5%': -2.8840418343195267, '10%': -2.578770059171598}, 996.6929308390188)\n",
      "The p-value of the test on prices is: 0.9918802434376393\n"
     ]
    }
   ],
   "source": [
    "results = adfuller(y)\n",
    "print(results)\n",
    "\n",
    "# Just print out the p-value\n",
    "print('The p-value of the test on prices is: ' + str(results[1]))"
   ]
  },
  {
   "cell_type": "markdown",
   "metadata": {},
   "source": [
    "Since p-value is greater than .05 we fail to reject the Null hypothesis. That means the data is non-stationary "
   ]
  },
  {
   "cell_type": "code",
   "execution_count": 23,
   "metadata": {},
   "outputs": [],
   "source": [
    "# Taking the log of y to make the variance constant across\n",
    "\n",
    "import numpy as np\n",
    "\n",
    "y_log = np.log(y)"
   ]
  },
  {
   "cell_type": "code",
   "execution_count": 24,
   "metadata": {},
   "outputs": [
    {
     "data": {
      "text/plain": [
       "<AxesSubplot:xlabel='Month'>"
      ]
     },
     "execution_count": 24,
     "metadata": {},
     "output_type": "execute_result"
    },
    {
     "data": {
      "image/png": "[encoded data removed]",
      "text/plain": [
       "<Figure size 432x288 with 1 Axes>"
      ]
     },
     "metadata": {
      "needs_background": "light"
     },
     "output_type": "display_data"
    }
   ],
   "source": [
    "y_log.plot()"
   ]
  },
  {
   "cell_type": "code",
   "execution_count": 25,
   "metadata": {},
   "outputs": [
    {
     "data": {
      "text/plain": [
       "count    144.000000\n",
       "mean      13.815791\n",
       "std        0.000120\n",
       "min       13.815615\n",
       "25%       13.815691\n",
       "50%       13.815776\n",
       "75%       13.815871\n",
       "max       13.816132\n",
       "Name: #CigSales, dtype: float64"
      ]
     },
     "execution_count": 25,
     "metadata": {},
     "output_type": "execute_result"
    }
   ],
   "source": [
    "y_log.describe()"
   ]
  },
  {
   "cell_type": "markdown",
   "metadata": {},
   "source": [
    "### ARIMA model\n",
    "\n"
   ]
  },
  {
   "cell_type": "code",
   "execution_count": 26,
   "metadata": {},
   "outputs": [],
   "source": [
    "# Import mean_squared_error and ARIMA\n",
    "from sklearn.metrics import mean_squared_error\n",
    "\n"
   ]
  },
  {
   "cell_type": "code",
   "execution_count": 27,
   "metadata": {},
   "outputs": [],
   "source": [
    "from statsmodels.tsa.arima_model import ARIMA"
   ]
  },
  {
   "cell_type": "code",
   "execution_count": 28,
   "metadata": {},
   "outputs": [],
   "source": [
    "from statsmodels.tsa.arima.model import ARIMA"
   ]
  },
  {
   "cell_type": "markdown",
   "metadata": {},
   "source": [
    "####  Make a function to find the MSE of a single ARIMA model\n"
   ]
  },
  {
   "cell_type": "code",
   "execution_count": 29,
   "metadata": {},
   "outputs": [],
   "source": [
    "def MSE(data,arima_order):\n",
    "    s = int(len(data)* 0.8)\n",
    "    train, test = data[0:s],data[s:len(data)]\n",
    "    past = [x for x in train]\n",
    "    predictions = list()\n",
    "    for i in range(len(test)):\n",
    "        model = ARIMA(past, order = arima_order)\n",
    "        model_fit = model.fit()\n",
    "        future = model_fit.forecast()[0]\n",
    "        predictions.append(future)\n",
    "        past.append(test[i])\n",
    "    error = mean_squared_error(test, predictions)\n",
    "    return error"
   ]
  },
  {
   "cell_type": "markdown",
   "metadata": {},
   "source": [
    "####  Make a function to evaluate the different ARIMA models with different p, d, and q values"
   ]
  },
  {
   "cell_type": "code",
   "execution_count": 30,
   "metadata": {},
   "outputs": [],
   "source": [
    "def evaluation(dataset, p_values, d_values, q_values):\n",
    "    dataset = dataset.astype('float32')\n",
    "    best_score, best_cfg = float(\"inf\"), None\n",
    "    print(best_score)\n",
    "    for p in p_values:\n",
    "        for d in d_values:\n",
    "            for q in q_values:\n",
    "                order = (p, d, q)\n",
    "                mse = MSE(dataset, order)\n",
    "                if mse < best_score:\n",
    "                    best_score, best_cfg = mse, order\n",
    "                    print('ARIMA%s MSE=%.12f' %(order, mse))\n",
    "            \n",
    "    return print('Best ARIMA%s MSE=%.12f' % (best_cfg, best_score))"
   ]
  },
  {
   "cell_type": "code",
   "execution_count": 31,
   "metadata": {},
   "outputs": [],
   "source": [
    "# Now, we choose a couple of values to try for each parameter.\n",
    "p_values = [0, 1,2]\n",
    "d_values = [0,1,2]\n",
    "q_values = [0,1,2]\n",
    "\n"
   ]
  },
  {
   "cell_type": "code",
   "execution_count": 32,
   "metadata": {
    "scrolled": false
   },
   "outputs": [
    {
     "name": "stdout",
     "output_type": "stream",
     "text": [
      "inf\n",
      "ARIMA(0, 0, 0) MSE=0.000000040242\n",
      "ARIMA(0, 0, 1) MSE=0.000000040235\n",
      "ARIMA(0, 0, 2) MSE=0.000000030831\n",
      "ARIMA(0, 1, 0) MSE=0.000000002749\n",
      "ARIMA(0, 1, 1) MSE=0.000000002442\n",
      "ARIMA(1, 0, 1) MSE=0.000000002420\n",
      "ARIMA(1, 1, 2) MSE=0.000000002322\n",
      "ARIMA(2, 1, 1) MSE=0.000000002270\n",
      "Best ARIMA(2, 1, 1) MSE=0.000000002270\n"
     ]
    }
   ],
   "source": [
    "# we can find the optimum ARIMA model for our data.\n",
    "\n",
    "import warnings\n",
    "warnings.filterwarnings(\"ignore\")\n",
    "evaluation(y_log, p_values, d_values, q_values)"
   ]
  },
  {
   "cell_type": "markdown",
   "metadata": {},
   "source": [
    " **p,d, q, parameters for our ARIMA model are 2, 1, 1 respectively. Now we know this, we can build the model.**"
   ]
  },
  {
   "cell_type": "code",
   "execution_count": 33,
   "metadata": {},
   "outputs": [],
   "source": [
    "p = 2\n",
    "d = 1\n",
    "q = 1\n",
    "model = ARIMA(y_log, order = (p,d,q))\n",
    "model_fit = model.fit()\n"
   ]
  },
  {
   "cell_type": "markdown",
   "metadata": {},
   "source": [
    "**We can take a look at a summary of the model this library has built around our data.**"
   ]
  },
  {
   "cell_type": "code",
   "execution_count": 34,
   "metadata": {
    "scrolled": false
   },
   "outputs": [
    {
     "data": {
      "text/html": [
       "<table class=\"simpletable\">\n",
       "<caption>SARIMAX Results</caption>\n",
       "<tr>\n",
       "  <th>Dep. Variable:</th>       <td>#CigSales</td>    <th>  No. Observations:  </th>    <td>144</td>   \n",
       "</tr>\n",
       "<tr>\n",
       "  <th>Model:</th>            <td>ARIMA(2, 1, 1)</td>  <th>  Log Likelihood     </th> <td>1287.245</td> \n",
       "</tr>\n",
       "<tr>\n",
       "  <th>Date:</th>            <td>Wed, 09 Nov 2022</td> <th>  AIC                </th> <td>-2566.490</td>\n",
       "</tr>\n",
       "<tr>\n",
       "  <th>Time:</th>                <td>13:01:37</td>     <th>  BIC                </th> <td>-2554.639</td>\n",
       "</tr>\n",
       "<tr>\n",
       "  <th>Sample:</th>             <td>01-01-1949</td>    <th>  HQIC               </th> <td>-2561.674</td>\n",
       "</tr>\n",
       "<tr>\n",
       "  <th></th>                   <td>- 12-01-1960</td>   <th>                     </th>     <td> </td>    \n",
       "</tr>\n",
       "<tr>\n",
       "  <th>Covariance Type:</th>        <td>opg</td>       <th>                     </th>     <td> </td>    \n",
       "</tr>\n",
       "</table>\n",
       "<table class=\"simpletable\">\n",
       "<tr>\n",
       "     <td></td>       <th>coef</th>     <th>std err</th>      <th>z</th>      <th>P>|z|</th>  <th>[0.025</th>    <th>0.975]</th>  \n",
       "</tr>\n",
       "<tr>\n",
       "  <th>ar.L1</th>  <td>    1.0575</td> <td> 1.33e-19</td> <td> 7.98e+18</td> <td> 0.000</td> <td>    1.057</td> <td>    1.057</td>\n",
       "</tr>\n",
       "<tr>\n",
       "  <th>ar.L2</th>  <td>   -0.4391</td> <td> 7.17e-19</td> <td>-6.12e+17</td> <td> 0.000</td> <td>   -0.439</td> <td>   -0.439</td>\n",
       "</tr>\n",
       "<tr>\n",
       "  <th>ma.L1</th>  <td>   -0.7080</td> <td> 3.89e-20</td> <td>-1.82e+19</td> <td> 0.000</td> <td>   -0.708</td> <td>   -0.708</td>\n",
       "</tr>\n",
       "<tr>\n",
       "  <th>sigma2</th> <td> 7.158e-10</td> <td> 2.65e-10</td> <td>    2.705</td> <td> 0.007</td> <td> 1.97e-10</td> <td> 1.23e-09</td>\n",
       "</tr>\n",
       "</table>\n",
       "<table class=\"simpletable\">\n",
       "<tr>\n",
       "  <th>Ljung-Box (L1) (Q):</th>     <td>0.72</td> <th>  Jarque-Bera (JB):  </th> <td>0.63</td>\n",
       "</tr>\n",
       "<tr>\n",
       "  <th>Prob(Q):</th>                <td>0.40</td> <th>  Prob(JB):          </th> <td>0.73</td>\n",
       "</tr>\n",
       "<tr>\n",
       "  <th>Heteroskedasticity (H):</th> <td>7.95</td> <th>  Skew:              </th> <td>0.15</td>\n",
       "</tr>\n",
       "<tr>\n",
       "  <th>Prob(H) (two-sided):</th>    <td>0.00</td> <th>  Kurtosis:          </th> <td>3.14</td>\n",
       "</tr>\n",
       "</table><br/><br/>Warnings:<br/>[1] Covariance matrix calculated using the outer product of gradients (complex-step).<br/>[2] Covariance matrix is singular or near-singular, with condition number 2.18e+35. Standard errors may be unstable."
      ],
      "text/plain": [
       "<class 'statsmodels.iolib.summary.Summary'>\n",
       "\"\"\"\n",
       "                               SARIMAX Results                                \n",
       "==============================================================================\n",
       "Dep. Variable:              #CigSales   No. Observations:                  144\n",
       "Model:                 ARIMA(2, 1, 1)   Log Likelihood                1287.245\n",
       "Date:                Wed, 09 Nov 2022   AIC                          -2566.490\n",
       "Time:                        13:01:37   BIC                          -2554.639\n",
       "Sample:                    01-01-1949   HQIC                         -2561.674\n",
       "                         - 12-01-1960                                         \n",
       "Covariance Type:                  opg                                         \n",
       "==============================================================================\n",
       "                 coef    std err          z      P>|z|      [0.025      0.975]\n",
       "------------------------------------------------------------------------------\n",
       "ar.L1          1.0575   1.33e-19   7.98e+18      0.000       1.057       1.057\n",
       "ar.L2         -0.4391   7.17e-19  -6.12e+17      0.000      -0.439      -0.439\n",
       "ma.L1         -0.7080   3.89e-20  -1.82e+19      0.000      -0.708      -0.708\n",
       "sigma2      7.158e-10   2.65e-10      2.705      0.007    1.97e-10    1.23e-09\n",
       "===================================================================================\n",
       "Ljung-Box (L1) (Q):                   0.72   Jarque-Bera (JB):                 0.63\n",
       "Prob(Q):                              0.40   Prob(JB):                         0.73\n",
       "Heteroskedasticity (H):               7.95   Skew:                             0.15\n",
       "Prob(H) (two-sided):                  0.00   Kurtosis:                         3.14\n",
       "===================================================================================\n",
       "\n",
       "Warnings:\n",
       "[1] Covariance matrix calculated using the outer product of gradients (complex-step).\n",
       "[2] Covariance matrix is singular or near-singular, with condition number 2.18e+35. Standard errors may be unstable.\n",
       "\"\"\""
      ]
     },
     "execution_count": 34,
     "metadata": {},
     "output_type": "execute_result"
    }
   ],
   "source": [
    "model_fit.summary()"
   ]
  },
  {
   "cell_type": "markdown",
   "metadata": {},
   "source": [
    "**Lower value of AIC indicates the model can predict better** <br>\n",
    "**The value of BIC is also lower which indicates good exploratory model**\n"
   ]
  },
  {
   "cell_type": "code",
   "execution_count": 35,
   "metadata": {},
   "outputs": [],
   "source": [
    "\n",
    "residuals = pd.DataFrame(model_fit.resid)\n"
   ]
  },
  {
   "cell_type": "markdown",
   "metadata": {},
   "source": [
    "The Residual plot show that mean is 0 which is good"
   ]
  },
  {
   "cell_type": "code",
   "execution_count": 36,
   "metadata": {},
   "outputs": [
    {
     "data": {
      "image/png": "[encoded data removed]",
      "text/plain": [
       "<Figure size 432x288 with 1 Axes>"
      ]
     },
     "metadata": {
      "needs_background": "light"
     },
     "output_type": "display_data"
    }
   ],
   "source": [
    "residuals.plot(kind='kde')\n",
    "plt.show()"
   ]
  },
  {
   "cell_type": "code",
   "execution_count": 37,
   "metadata": {},
   "outputs": [
    {
     "name": "stdout",
     "output_type": "stream",
     "text": [
      "                0\n",
      "count  144.000000\n",
      "mean     0.095945\n",
      "std      1.151302\n",
      "min     -0.000084\n",
      "25%     -0.000016\n",
      "50%     -0.000002\n",
      "75%      0.000025\n",
      "max     13.815623\n"
     ]
    }
   ],
   "source": [
    "print(residuals.describe())"
   ]
  },
  {
   "cell_type": "markdown",
   "metadata": {},
   "source": [
    "###  Application: Forecasting\n",
    "\n",
    "our model fits pretty closely to our existing data. Let's now use it to forecast what's likely to occur in future."
   ]
  },
  {
   "cell_type": "code",
   "execution_count": 41,
   "metadata": {},
   "outputs": [
    {
     "data": {
      "text/plain": [
       "Month\n",
       "1949-01-01    13.815623\n",
       "1949-02-01    13.815629\n",
       "1949-03-01    13.815643\n",
       "1949-04-01    13.815640\n",
       "1949-05-01    13.815632\n",
       "                ...    \n",
       "1960-08-01    13.816116\n",
       "1960-09-01    13.816018\n",
       "1960-10-01    13.815971\n",
       "1960-11-01    13.815900\n",
       "1960-12-01    13.815942\n",
       "Name: #CigSales, Length: 144, dtype: float64"
      ]
     },
     "execution_count": 41,
     "metadata": {},
     "output_type": "execute_result"
    }
   ],
   "source": [
    "y_log"
   ]
  },
  {
   "cell_type": "code",
   "execution_count": 42,
   "metadata": {
    "scrolled": false
   },
   "outputs": [],
   "source": [
    "# Creating a forecast for next 3 years using the model\n",
    "\n",
    "forecast_period = 36\n",
    "forecast = model_fit.forecast(36)\n"
   ]
  },
  {
   "cell_type": "code",
   "execution_count": 40,
   "metadata": {
    "scrolled": true
   },
   "outputs": [
    {
     "data": {
      "image/png": "[encoded data removed]",
      "text/plain": [
       "<Figure size 864x576 with 1 Axes>"
      ]
     },
     "metadata": {
      "needs_background": "light"
     },
     "output_type": "display_data"
    }
   ],
   "source": [
    "# Plot your future predictions\n",
    "plt.figure(figsize=(12,8))\n",
    "plt.plot(y_log)\n",
    "plt.plot(y_log['Nov 1960'].append(forecast))\n",
    "plt.show()"
   ]
  },
  {
   "cell_type": "markdown",
   "metadata": {},
   "source": [
    "### LSTM"
   ]
  },
  {
   "cell_type": "code",
   "execution_count": 46,
   "metadata": {},
   "outputs": [],
   "source": [
    "try:\n",
    "    import tensorflow as tf\n",
    "    from tensorflow.keras.models import Sequential\n",
    "    from tensorflow.keras.layers import Dense, LSTM, Dropout, GRU, Bidirectional\n",
    "    from tensorflow.keras.optimizers import SGD\n",
    "except:\n",
    "    !pip install keras\n",
    "    !pip install h5py==3.1.0 numpy==1.19.2 six==1.15.0 typing-extensions==3.7.4 wrapt==1.12.1 botocore==1.20.106 gast==0.4.0 tensorboard==2.6 tensorflow-estimator==2.6 absl-py==0.9 protobuf==3.11.2 scikit-learn==0.24 fsspec==2021.07.0 google-api-python-client==1.12.1\n",
    "    !pip install --upgrade tensorflow\n",
    "    !pip install --ignore-installed --upgrade tensorflow-gpu==1.15.0\n",
    "    import tensorflow as tf\n",
    "    from tensorflow.keras.models import Sequential\n",
    "    from tensorflow.keras.layers import Dense, LSTM, Dropout, GRU, Bidirectional\n",
    "    from tensorflow.keras.optimizers import SGD"
   ]
  },
  {
   "cell_type": "code",
   "execution_count": 47,
   "metadata": {},
   "outputs": [],
   "source": [
    "from tensorflow.keras.layers import Dense, LSTM, Dropout, GRU, Bidirectional"
   ]
  },
  {
   "cell_type": "code",
   "execution_count": 48,
   "metadata": {},
   "outputs": [
    {
     "data": {
      "text/plain": [
       "Month\n",
       "1949-01-01    1000112\n",
       "1949-02-01    1000118\n",
       "1949-03-01    1000132\n",
       "1949-04-01    1000129\n",
       "1949-05-01    1000121\n",
       "               ...   \n",
       "1960-08-01    1000606\n",
       "1960-09-01    1000508\n",
       "1960-10-01    1000461\n",
       "1960-11-01    1000390\n",
       "1960-12-01    1000432\n",
       "Name: #CigSales, Length: 144, dtype: int64"
      ]
     },
     "execution_count": 48,
     "metadata": {},
     "output_type": "execute_result"
    }
   ],
   "source": [
    "y"
   ]
  },
  {
   "cell_type": "markdown",
   "metadata": {},
   "source": [
    "**LSTM is sensitive to the scale of the data. So we have to do scaling**"
   ]
  },
  {
   "cell_type": "code",
   "execution_count": 49,
   "metadata": {},
   "outputs": [],
   "source": [
    "from sklearn.preprocessing import MinMaxScaler\n",
    "\n",
    "# scaling the data for values to 0 to 1\n",
    "scaler = MinMaxScaler(feature_range=(0,1))\n",
    "y_scaled = scaler.fit_transform(np.array(y).reshape(-1,1))"
   ]
  },
  {
   "cell_type": "code",
   "execution_count": 50,
   "metadata": {},
   "outputs": [
    {
     "data": {
      "text/plain": [
       "array([[0.01544402],\n",
       "       [0.02702703],\n",
       "       [0.05405405],\n",
       "       [0.04826255],\n",
       "       [0.03281853],\n",
       "       [0.05984556],\n",
       "       [0.08494208],\n",
       "       [0.08494208],\n",
       "       [0.06177606],\n",
       "       [0.02895753],\n",
       "       [0.        ],\n",
       "       [0.02702703],\n",
       "       [0.02123552],\n",
       "       [0.04247104],\n",
       "       [0.07142857],\n",
       "       [0.05984556],\n",
       "       [0.04054054],\n",
       "       [0.08687259],\n",
       "       [0.12741313],\n",
       "       [0.12741313],\n",
       "       [0.1042471 ],\n",
       "       [0.05598456],\n",
       "       [0.01930502],\n",
       "       [0.06949807],\n",
       "       [0.07915058],\n",
       "       [0.08880309],\n",
       "       [0.14285714],\n",
       "       [0.11389961],\n",
       "       [0.13127413],\n",
       "       [0.14285714],\n",
       "       [0.18339768],\n",
       "       [0.18339768],\n",
       "       [0.15444015],\n",
       "       [0.11196911],\n",
       "       [0.08108108],\n",
       "       [0.11969112],\n",
       "       [0.12934363],\n",
       "       [0.14671815],\n",
       "       [0.17181467],\n",
       "       [0.14864865],\n",
       "       [0.15250965],\n",
       "       [0.22007722],\n",
       "       [0.24324324],\n",
       "       [0.26640927],\n",
       "       [0.2027027 ],\n",
       "       [0.16795367],\n",
       "       [0.13127413],\n",
       "       [0.17374517],\n",
       "       [0.17760618],\n",
       "       [0.17760618],\n",
       "       [0.25482625],\n",
       "       [0.25289575],\n",
       "       [0.24131274],\n",
       "       [0.26833977],\n",
       "       [0.30888031],\n",
       "       [0.32432432],\n",
       "       [0.25675676],\n",
       "       [0.20656371],\n",
       "       [0.14671815],\n",
       "       [0.18725869],\n",
       "       [0.19305019],\n",
       "       [0.16216216],\n",
       "       [0.25289575],\n",
       "       [0.23745174],\n",
       "       [0.25096525],\n",
       "       [0.30888031],\n",
       "       [0.38223938],\n",
       "       [0.36486486],\n",
       "       [0.2992278 ],\n",
       "       [0.24131274],\n",
       "       [0.19111969],\n",
       "       [0.24131274],\n",
       "       [0.26640927],\n",
       "       [0.24903475],\n",
       "       [0.31467181],\n",
       "       [0.31853282],\n",
       "       [0.32046332],\n",
       "       [0.40733591],\n",
       "       [0.5019305 ],\n",
       "       [0.46911197],\n",
       "       [0.4015444 ],\n",
       "       [0.32818533],\n",
       "       [0.25675676],\n",
       "       [0.33590734],\n",
       "       [0.34749035],\n",
       "       [0.33397683],\n",
       "       [0.41119691],\n",
       "       [0.4034749 ],\n",
       "       [0.41312741],\n",
       "       [0.52123552],\n",
       "       [0.5965251 ],\n",
       "       [0.58108108],\n",
       "       [0.48455598],\n",
       "       [0.38996139],\n",
       "       [0.32239382],\n",
       "       [0.38996139],\n",
       "       [0.40733591],\n",
       "       [0.38030888],\n",
       "       [0.48648649],\n",
       "       [0.47104247],\n",
       "       [0.48455598],\n",
       "       [0.61389961],\n",
       "       [0.6969112 ],\n",
       "       [0.7007722 ],\n",
       "       [0.57915058],\n",
       "       [0.46911197],\n",
       "       [0.38803089],\n",
       "       [0.44787645],\n",
       "       [0.45559846],\n",
       "       [0.41312741],\n",
       "       [0.4980695 ],\n",
       "       [0.47104247],\n",
       "       [0.5       ],\n",
       "       [0.63899614],\n",
       "       [0.74710425],\n",
       "       [0.77413127],\n",
       "       [0.57915058],\n",
       "       [0.49227799],\n",
       "       [0.3976834 ],\n",
       "       [0.44980695],\n",
       "       [0.49420849],\n",
       "       [0.45945946],\n",
       "       [0.58301158],\n",
       "       [0.56370656],\n",
       "       [0.61003861],\n",
       "       [0.71042471],\n",
       "       [0.85714286],\n",
       "       [0.87837838],\n",
       "       [0.69305019],\n",
       "       [0.58494208],\n",
       "       [0.4980695 ],\n",
       "       [0.58108108],\n",
       "       [0.6042471 ],\n",
       "       [0.55405405],\n",
       "       [0.60810811],\n",
       "       [0.68918919],\n",
       "       [0.71042471],\n",
       "       [0.83204633],\n",
       "       [1.        ],\n",
       "       [0.96911197],\n",
       "       [0.77992278],\n",
       "       [0.68918919],\n",
       "       [0.55212355],\n",
       "       [0.63320463]])"
      ]
     },
     "execution_count": 50,
     "metadata": {},
     "output_type": "execute_result"
    }
   ],
   "source": [
    "y_scaled"
   ]
  },
  {
   "cell_type": "code",
   "execution_count": 51,
   "metadata": {},
   "outputs": [
    {
     "data": {
      "text/plain": [
       "array([0.02702703])"
      ]
     },
     "execution_count": 51,
     "metadata": {},
     "output_type": "execute_result"
    }
   ],
   "source": [
    "y_scaled[1]"
   ]
  },
  {
   "cell_type": "code",
   "execution_count": 52,
   "metadata": {},
   "outputs": [],
   "source": [
    "#Splitting the data into trainig and testing \n",
    "train_size = int(len(y_scaled) *.65)\n",
    "test_size = len(y_scaled) - train_size\n",
    "train_data, test_data = y_scaled[0:train_size],y_scaled[train_size:len(y)]\n"
   ]
  },
  {
   "cell_type": "code",
   "execution_count": 53,
   "metadata": {},
   "outputs": [
    {
     "data": {
      "text/plain": [
       "51"
      ]
     },
     "execution_count": 53,
     "metadata": {},
     "output_type": "execute_result"
    }
   ],
   "source": [
    "len(test_data)"
   ]
  },
  {
   "cell_type": "code",
   "execution_count": 54,
   "metadata": {},
   "outputs": [
    {
     "data": {
      "text/plain": [
       "93"
      ]
     },
     "execution_count": 54,
     "metadata": {},
     "output_type": "execute_result"
    }
   ],
   "source": [
    "len(train_data)"
   ]
  },
  {
   "cell_type": "markdown",
   "metadata": {},
   "source": [
    "**Converting the training and test data into Matrix** <br>\n",
    "We are spliting the training and testing dataset as below. <br>\n",
    "Taking time step as 20. In the train_data the first 20th element will be x_train and 21st element will be out y_train."
   ]
  },
  {
   "cell_type": "code",
   "execution_count": 55,
   "metadata": {},
   "outputs": [],
   "source": [
    "#Convert the array into Matrix\n",
    "def create_training_data(dataset,time_step=1):\n",
    "    X, Y = [],[]\n",
    "    temp = []\n",
    "    for i in range(len(dataset)-time_step-1):\n",
    "        temp = dataset[i:(i+time_step),0]\n",
    "        X.append(temp)\n",
    "        Y.append(dataset[i+time_step,0])\n",
    "    return np.array(X), np.array(Y)   "
   ]
  },
  {
   "cell_type": "code",
   "execution_count": 56,
   "metadata": {},
   "outputs": [
    {
     "name": "stdout",
     "output_type": "stream",
     "text": [
      "[[0.01544402]\n",
      " [0.02702703]\n",
      " [0.05405405]\n",
      " [0.04826255]\n",
      " [0.03281853]\n",
      " [0.05984556]\n",
      " [0.08494208]\n",
      " [0.08494208]\n",
      " [0.06177606]\n",
      " [0.02895753]\n",
      " [0.        ]\n",
      " [0.02702703]\n",
      " [0.02123552]\n",
      " [0.04247104]\n",
      " [0.07142857]\n",
      " [0.05984556]\n",
      " [0.04054054]\n",
      " [0.08687259]\n",
      " [0.12741313]\n",
      " [0.12741313]]\n"
     ]
    }
   ],
   "source": [
    "print(train_data[0:20])"
   ]
  },
  {
   "cell_type": "code",
   "execution_count": 267,
   "metadata": {},
   "outputs": [
    {
     "data": {
      "text/plain": [
       "array([0.1042471])"
      ]
     },
     "execution_count": 267,
     "metadata": {},
     "output_type": "execute_result"
    }
   ],
   "source": [
    "train_data[20]"
   ]
  },
  {
   "cell_type": "code",
   "execution_count": 57,
   "metadata": {},
   "outputs": [],
   "source": [
    "time_step = 20\n",
    "x_train, y_train = create_training_data(train_data, time_step)\n",
    "\n"
   ]
  },
  {
   "cell_type": "code",
   "execution_count": 58,
   "metadata": {},
   "outputs": [
    {
     "name": "stdout",
     "output_type": "stream",
     "text": [
      "[[0.01544402 0.02702703 0.05405405 ... 0.08687259 0.12741313 0.12741313]\n",
      " [0.02702703 0.05405405 0.04826255 ... 0.12741313 0.12741313 0.1042471 ]\n",
      " [0.05405405 0.04826255 0.03281853 ... 0.12741313 0.1042471  0.05598456]\n",
      " ...\n",
      " [0.24131274 0.19111969 0.24131274 ... 0.41119691 0.4034749  0.41312741]\n",
      " [0.19111969 0.24131274 0.26640927 ... 0.4034749  0.41312741 0.52123552]\n",
      " [0.24131274 0.26640927 0.24903475 ... 0.41312741 0.52123552 0.5965251 ]]\n"
     ]
    }
   ],
   "source": [
    "print(x_train)"
   ]
  },
  {
   "cell_type": "code",
   "execution_count": 59,
   "metadata": {},
   "outputs": [
    {
     "data": {
      "text/plain": [
       "(72, 20)"
      ]
     },
     "execution_count": 59,
     "metadata": {},
     "output_type": "execute_result"
    }
   ],
   "source": [
    "x_train.shape"
   ]
  },
  {
   "cell_type": "code",
   "execution_count": 60,
   "metadata": {},
   "outputs": [
    {
     "data": {
      "text/plain": [
       "array([0.1042471 , 0.05598456, 0.01930502, 0.06949807, 0.07915058,\n",
       "       0.08880309, 0.14285714, 0.11389961, 0.13127413, 0.14285714,\n",
       "       0.18339768, 0.18339768, 0.15444015, 0.11196911, 0.08108108,\n",
       "       0.11969112, 0.12934363, 0.14671815, 0.17181467, 0.14864865,\n",
       "       0.15250965, 0.22007722, 0.24324324, 0.26640927, 0.2027027 ,\n",
       "       0.16795367, 0.13127413, 0.17374517, 0.17760618, 0.17760618,\n",
       "       0.25482625, 0.25289575, 0.24131274, 0.26833977, 0.30888031,\n",
       "       0.32432432, 0.25675676, 0.20656371, 0.14671815, 0.18725869,\n",
       "       0.19305019, 0.16216216, 0.25289575, 0.23745174, 0.25096525,\n",
       "       0.30888031, 0.38223938, 0.36486486, 0.2992278 , 0.24131274,\n",
       "       0.19111969, 0.24131274, 0.26640927, 0.24903475, 0.31467181,\n",
       "       0.31853282, 0.32046332, 0.40733591, 0.5019305 , 0.46911197,\n",
       "       0.4015444 , 0.32818533, 0.25675676, 0.33590734, 0.34749035,\n",
       "       0.33397683, 0.41119691, 0.4034749 , 0.41312741, 0.52123552,\n",
       "       0.5965251 , 0.58108108])"
      ]
     },
     "execution_count": 60,
     "metadata": {},
     "output_type": "execute_result"
    }
   ],
   "source": [
    "y_train"
   ]
  },
  {
   "cell_type": "code",
   "execution_count": 61,
   "metadata": {},
   "outputs": [
    {
     "data": {
      "text/plain": [
       "(72,)"
      ]
     },
     "execution_count": 61,
     "metadata": {},
     "output_type": "execute_result"
    }
   ],
   "source": [
    "y_train.shape"
   ]
  },
  {
   "cell_type": "markdown",
   "metadata": {},
   "source": [
    "Similar process for test data as well"
   ]
  },
  {
   "cell_type": "code",
   "execution_count": 62,
   "metadata": {},
   "outputs": [],
   "source": [
    "time_step = 20\n",
    "x_test, y_test = create_training_data(test_data,time_step)"
   ]
  },
  {
   "cell_type": "code",
   "execution_count": 63,
   "metadata": {},
   "outputs": [
    {
     "data": {
      "text/plain": [
       "array([[0.38996139, 0.32239382, 0.38996139, 0.40733591, 0.38030888,\n",
       "        0.48648649, 0.47104247, 0.48455598, 0.61389961, 0.6969112 ,\n",
       "        0.7007722 , 0.57915058, 0.46911197, 0.38803089, 0.44787645,\n",
       "        0.45559846, 0.41312741, 0.4980695 , 0.47104247, 0.5       ],\n",
       "       [0.32239382, 0.38996139, 0.40733591, 0.38030888, 0.48648649,\n",
       "        0.47104247, 0.48455598, 0.61389961, 0.6969112 , 0.7007722 ,\n",
       "        0.57915058, 0.46911197, 0.38803089, 0.44787645, 0.45559846,\n",
       "        0.41312741, 0.4980695 , 0.47104247, 0.5       , 0.63899614],\n",
       "       [0.38996139, 0.40733591, 0.38030888, 0.48648649, 0.47104247,\n",
       "        0.48455598, 0.61389961, 0.6969112 , 0.7007722 , 0.57915058,\n",
       "        0.46911197, 0.38803089, 0.44787645, 0.45559846, 0.41312741,\n",
       "        0.4980695 , 0.47104247, 0.5       , 0.63899614, 0.74710425],\n",
       "       [0.40733591, 0.38030888, 0.48648649, 0.47104247, 0.48455598,\n",
       "        0.61389961, 0.6969112 , 0.7007722 , 0.57915058, 0.46911197,\n",
       "        0.38803089, 0.44787645, 0.45559846, 0.41312741, 0.4980695 ,\n",
       "        0.47104247, 0.5       , 0.63899614, 0.74710425, 0.77413127],\n",
       "       [0.38030888, 0.48648649, 0.47104247, 0.48455598, 0.61389961,\n",
       "        0.6969112 , 0.7007722 , 0.57915058, 0.46911197, 0.38803089,\n",
       "        0.44787645, 0.45559846, 0.41312741, 0.4980695 , 0.47104247,\n",
       "        0.5       , 0.63899614, 0.74710425, 0.77413127, 0.57915058],\n",
       "       [0.48648649, 0.47104247, 0.48455598, 0.61389961, 0.6969112 ,\n",
       "        0.7007722 , 0.57915058, 0.46911197, 0.38803089, 0.44787645,\n",
       "        0.45559846, 0.41312741, 0.4980695 , 0.47104247, 0.5       ,\n",
       "        0.63899614, 0.74710425, 0.77413127, 0.57915058, 0.49227799],\n",
       "       [0.47104247, 0.48455598, 0.61389961, 0.6969112 , 0.7007722 ,\n",
       "        0.57915058, 0.46911197, 0.38803089, 0.44787645, 0.45559846,\n",
       "        0.41312741, 0.4980695 , 0.47104247, 0.5       , 0.63899614,\n",
       "        0.74710425, 0.77413127, 0.57915058, 0.49227799, 0.3976834 ],\n",
       "       [0.48455598, 0.61389961, 0.6969112 , 0.7007722 , 0.57915058,\n",
       "        0.46911197, 0.38803089, 0.44787645, 0.45559846, 0.41312741,\n",
       "        0.4980695 , 0.47104247, 0.5       , 0.63899614, 0.74710425,\n",
       "        0.77413127, 0.57915058, 0.49227799, 0.3976834 , 0.44980695],\n",
       "       [0.61389961, 0.6969112 , 0.7007722 , 0.57915058, 0.46911197,\n",
       "        0.38803089, 0.44787645, 0.45559846, 0.41312741, 0.4980695 ,\n",
       "        0.47104247, 0.5       , 0.63899614, 0.74710425, 0.77413127,\n",
       "        0.57915058, 0.49227799, 0.3976834 , 0.44980695, 0.49420849],\n",
       "       [0.6969112 , 0.7007722 , 0.57915058, 0.46911197, 0.38803089,\n",
       "        0.44787645, 0.45559846, 0.41312741, 0.4980695 , 0.47104247,\n",
       "        0.5       , 0.63899614, 0.74710425, 0.77413127, 0.57915058,\n",
       "        0.49227799, 0.3976834 , 0.44980695, 0.49420849, 0.45945946],\n",
       "       [0.7007722 , 0.57915058, 0.46911197, 0.38803089, 0.44787645,\n",
       "        0.45559846, 0.41312741, 0.4980695 , 0.47104247, 0.5       ,\n",
       "        0.63899614, 0.74710425, 0.77413127, 0.57915058, 0.49227799,\n",
       "        0.3976834 , 0.44980695, 0.49420849, 0.45945946, 0.58301158],\n",
       "       [0.57915058, 0.46911197, 0.38803089, 0.44787645, 0.45559846,\n",
       "        0.41312741, 0.4980695 , 0.47104247, 0.5       , 0.63899614,\n",
       "        0.74710425, 0.77413127, 0.57915058, 0.49227799, 0.3976834 ,\n",
       "        0.44980695, 0.49420849, 0.45945946, 0.58301158, 0.56370656],\n",
       "       [0.46911197, 0.38803089, 0.44787645, 0.45559846, 0.41312741,\n",
       "        0.4980695 , 0.47104247, 0.5       , 0.63899614, 0.74710425,\n",
       "        0.77413127, 0.57915058, 0.49227799, 0.3976834 , 0.44980695,\n",
       "        0.49420849, 0.45945946, 0.58301158, 0.56370656, 0.61003861],\n",
       "       [0.38803089, 0.44787645, 0.45559846, 0.41312741, 0.4980695 ,\n",
       "        0.47104247, 0.5       , 0.63899614, 0.74710425, 0.77413127,\n",
       "        0.57915058, 0.49227799, 0.3976834 , 0.44980695, 0.49420849,\n",
       "        0.45945946, 0.58301158, 0.56370656, 0.61003861, 0.71042471],\n",
       "       [0.44787645, 0.45559846, 0.41312741, 0.4980695 , 0.47104247,\n",
       "        0.5       , 0.63899614, 0.74710425, 0.77413127, 0.57915058,\n",
       "        0.49227799, 0.3976834 , 0.44980695, 0.49420849, 0.45945946,\n",
       "        0.58301158, 0.56370656, 0.61003861, 0.71042471, 0.85714286],\n",
       "       [0.45559846, 0.41312741, 0.4980695 , 0.47104247, 0.5       ,\n",
       "        0.63899614, 0.74710425, 0.77413127, 0.57915058, 0.49227799,\n",
       "        0.3976834 , 0.44980695, 0.49420849, 0.45945946, 0.58301158,\n",
       "        0.56370656, 0.61003861, 0.71042471, 0.85714286, 0.87837838],\n",
       "       [0.41312741, 0.4980695 , 0.47104247, 0.5       , 0.63899614,\n",
       "        0.74710425, 0.77413127, 0.57915058, 0.49227799, 0.3976834 ,\n",
       "        0.44980695, 0.49420849, 0.45945946, 0.58301158, 0.56370656,\n",
       "        0.61003861, 0.71042471, 0.85714286, 0.87837838, 0.69305019],\n",
       "       [0.4980695 , 0.47104247, 0.5       , 0.63899614, 0.74710425,\n",
       "        0.77413127, 0.57915058, 0.49227799, 0.3976834 , 0.44980695,\n",
       "        0.49420849, 0.45945946, 0.58301158, 0.56370656, 0.61003861,\n",
       "        0.71042471, 0.85714286, 0.87837838, 0.69305019, 0.58494208],\n",
       "       [0.47104247, 0.5       , 0.63899614, 0.74710425, 0.77413127,\n",
       "        0.57915058, 0.49227799, 0.3976834 , 0.44980695, 0.49420849,\n",
       "        0.45945946, 0.58301158, 0.56370656, 0.61003861, 0.71042471,\n",
       "        0.85714286, 0.87837838, 0.69305019, 0.58494208, 0.4980695 ],\n",
       "       [0.5       , 0.63899614, 0.74710425, 0.77413127, 0.57915058,\n",
       "        0.49227799, 0.3976834 , 0.44980695, 0.49420849, 0.45945946,\n",
       "        0.58301158, 0.56370656, 0.61003861, 0.71042471, 0.85714286,\n",
       "        0.87837838, 0.69305019, 0.58494208, 0.4980695 , 0.58108108],\n",
       "       [0.63899614, 0.74710425, 0.77413127, 0.57915058, 0.49227799,\n",
       "        0.3976834 , 0.44980695, 0.49420849, 0.45945946, 0.58301158,\n",
       "        0.56370656, 0.61003861, 0.71042471, 0.85714286, 0.87837838,\n",
       "        0.69305019, 0.58494208, 0.4980695 , 0.58108108, 0.6042471 ],\n",
       "       [0.74710425, 0.77413127, 0.57915058, 0.49227799, 0.3976834 ,\n",
       "        0.44980695, 0.49420849, 0.45945946, 0.58301158, 0.56370656,\n",
       "        0.61003861, 0.71042471, 0.85714286, 0.87837838, 0.69305019,\n",
       "        0.58494208, 0.4980695 , 0.58108108, 0.6042471 , 0.55405405],\n",
       "       [0.77413127, 0.57915058, 0.49227799, 0.3976834 , 0.44980695,\n",
       "        0.49420849, 0.45945946, 0.58301158, 0.56370656, 0.61003861,\n",
       "        0.71042471, 0.85714286, 0.87837838, 0.69305019, 0.58494208,\n",
       "        0.4980695 , 0.58108108, 0.6042471 , 0.55405405, 0.60810811],\n",
       "       [0.57915058, 0.49227799, 0.3976834 , 0.44980695, 0.49420849,\n",
       "        0.45945946, 0.58301158, 0.56370656, 0.61003861, 0.71042471,\n",
       "        0.85714286, 0.87837838, 0.69305019, 0.58494208, 0.4980695 ,\n",
       "        0.58108108, 0.6042471 , 0.55405405, 0.60810811, 0.68918919],\n",
       "       [0.49227799, 0.3976834 , 0.44980695, 0.49420849, 0.45945946,\n",
       "        0.58301158, 0.56370656, 0.61003861, 0.71042471, 0.85714286,\n",
       "        0.87837838, 0.69305019, 0.58494208, 0.4980695 , 0.58108108,\n",
       "        0.6042471 , 0.55405405, 0.60810811, 0.68918919, 0.71042471],\n",
       "       [0.3976834 , 0.44980695, 0.49420849, 0.45945946, 0.58301158,\n",
       "        0.56370656, 0.61003861, 0.71042471, 0.85714286, 0.87837838,\n",
       "        0.69305019, 0.58494208, 0.4980695 , 0.58108108, 0.6042471 ,\n",
       "        0.55405405, 0.60810811, 0.68918919, 0.71042471, 0.83204633],\n",
       "       [0.44980695, 0.49420849, 0.45945946, 0.58301158, 0.56370656,\n",
       "        0.61003861, 0.71042471, 0.85714286, 0.87837838, 0.69305019,\n",
       "        0.58494208, 0.4980695 , 0.58108108, 0.6042471 , 0.55405405,\n",
       "        0.60810811, 0.68918919, 0.71042471, 0.83204633, 1.        ],\n",
       "       [0.49420849, 0.45945946, 0.58301158, 0.56370656, 0.61003861,\n",
       "        0.71042471, 0.85714286, 0.87837838, 0.69305019, 0.58494208,\n",
       "        0.4980695 , 0.58108108, 0.6042471 , 0.55405405, 0.60810811,\n",
       "        0.68918919, 0.71042471, 0.83204633, 1.        , 0.96911197],\n",
       "       [0.45945946, 0.58301158, 0.56370656, 0.61003861, 0.71042471,\n",
       "        0.85714286, 0.87837838, 0.69305019, 0.58494208, 0.4980695 ,\n",
       "        0.58108108, 0.6042471 , 0.55405405, 0.60810811, 0.68918919,\n",
       "        0.71042471, 0.83204633, 1.        , 0.96911197, 0.77992278],\n",
       "       [0.58301158, 0.56370656, 0.61003861, 0.71042471, 0.85714286,\n",
       "        0.87837838, 0.69305019, 0.58494208, 0.4980695 , 0.58108108,\n",
       "        0.6042471 , 0.55405405, 0.60810811, 0.68918919, 0.71042471,\n",
       "        0.83204633, 1.        , 0.96911197, 0.77992278, 0.68918919]])"
      ]
     },
     "execution_count": 63,
     "metadata": {},
     "output_type": "execute_result"
    }
   ],
   "source": [
    "x_test"
   ]
  },
  {
   "cell_type": "code",
   "execution_count": 64,
   "metadata": {},
   "outputs": [
    {
     "data": {
      "text/plain": [
       "(30, 20)"
      ]
     },
     "execution_count": 64,
     "metadata": {},
     "output_type": "execute_result"
    }
   ],
   "source": [
    "x_test.shape"
   ]
  },
  {
   "cell_type": "code",
   "execution_count": 65,
   "metadata": {},
   "outputs": [
    {
     "data": {
      "text/plain": [
       "array([0.63899614, 0.74710425, 0.77413127, 0.57915058, 0.49227799,\n",
       "       0.3976834 , 0.44980695, 0.49420849, 0.45945946, 0.58301158,\n",
       "       0.56370656, 0.61003861, 0.71042471, 0.85714286, 0.87837838,\n",
       "       0.69305019, 0.58494208, 0.4980695 , 0.58108108, 0.6042471 ,\n",
       "       0.55405405, 0.60810811, 0.68918919, 0.71042471, 0.83204633,\n",
       "       1.        , 0.96911197, 0.77992278, 0.68918919, 0.55212355])"
      ]
     },
     "execution_count": 65,
     "metadata": {},
     "output_type": "execute_result"
    }
   ],
   "source": [
    "y_test"
   ]
  },
  {
   "cell_type": "code",
   "execution_count": 66,
   "metadata": {},
   "outputs": [
    {
     "data": {
      "text/plain": [
       "(30,)"
      ]
     },
     "execution_count": 66,
     "metadata": {},
     "output_type": "execute_result"
    }
   ],
   "source": [
    "y_test.shape"
   ]
  },
  {
   "cell_type": "markdown",
   "metadata": {},
   "source": [
    "Reshape input into 3 dimentional array. The LSTM memory cell requires 3D input. so the input sequence has 3 values and the output will be single value."
   ]
  },
  {
   "cell_type": "code",
   "execution_count": 67,
   "metadata": {},
   "outputs": [],
   "source": [
    "x_train = x_train.reshape(x_train.shape[0],x_train.shape[1],1)"
   ]
  },
  {
   "cell_type": "code",
   "execution_count": 68,
   "metadata": {},
   "outputs": [],
   "source": [
    "x_test = x_test.reshape(x_test.shape[0],x_test.shape[1],1)"
   ]
  },
  {
   "cell_type": "markdown",
   "metadata": {},
   "source": [
    "**These are the 3 steps for the below code for model building**\n",
    "1. We have 3 LSTM stacked. The number units is 15 which means each LSTM composed of 15 memory blocks <br>\n",
    "\n",
    "2. To stack LSTM layers, we need to set the  LSTM layer to output a 3D array as input for the subsequent layer. We can do this by setting the return_sequences argument on the layer to True(by default it is false). This will return one output for each input time step and provide a 3D array.\n",
    "3. In any nueral network Dense Layer is for connecting the the neuron with all the previous layer.It is full connected\n",
    "4. We are using MSE for calculating the loss and Adam optimizer is a gradinet descent methoded used for updating weights in each step."
   ]
  },
  {
   "cell_type": "code",
   "execution_count": 69,
   "metadata": {},
   "outputs": [],
   "source": [
    "model = Sequential()\n",
    "model.add(LSTM(15,return_sequences=True,input_shape=(20,1)))\n",
    "model.add(LSTM(15,return_sequences=True))\n",
    "model.add(LSTM(15))\n",
    "model.add(Dense(1))\n",
    "model.compile(loss='mean_squared_error',optimizer='adam')"
   ]
  },
  {
   "cell_type": "code",
   "execution_count": 70,
   "metadata": {},
   "outputs": [
    {
     "name": "stdout",
     "output_type": "stream",
     "text": [
      "Model: \"sequential\"\n",
      "_________________________________________________________________\n",
      " Layer (type)                Output Shape              Param #   \n",
      "=================================================================\n",
      " lstm (LSTM)                 (None, 20, 15)            1020      \n",
      "                                                                 \n",
      " lstm_1 (LSTM)               (None, 20, 15)            1860      \n",
      "                                                                 \n",
      " lstm_2 (LSTM)               (None, 15)                1860      \n",
      "                                                                 \n",
      " dense (Dense)               (None, 1)                 16        \n",
      "                                                                 \n",
      "=================================================================\n",
      "Total params: 4,756\n",
      "Trainable params: 4,756\n",
      "Non-trainable params: 0\n",
      "_________________________________________________________________\n"
     ]
    }
   ],
   "source": [
    "model.summary()"
   ]
  },
  {
   "cell_type": "markdown",
   "metadata": {},
   "source": [
    "Using the model to fit the train and test data. selecting 50 iterations and batch_size of 32. "
   ]
  },
  {
   "cell_type": "code",
   "execution_count": 71,
   "metadata": {},
   "outputs": [
    {
     "name": "stdout",
     "output_type": "stream",
     "text": [
      "Epoch 1/50\n",
      "3/3 [==============================] - 7s 683ms/step - loss: 0.0742 - val_loss: 0.3781\n",
      "Epoch 2/50\n",
      "3/3 [==============================] - 0s 36ms/step - loss: 0.0526 - val_loss: 0.2904\n",
      "Epoch 3/50\n",
      "3/3 [==============================] - 0s 40ms/step - loss: 0.0348 - val_loss: 0.2090\n",
      "Epoch 4/50\n",
      "3/3 [==============================] - 0s 36ms/step - loss: 0.0203 - val_loss: 0.1370\n",
      "Epoch 5/50\n",
      "3/3 [==============================] - 0s 40ms/step - loss: 0.0106 - val_loss: 0.0807\n",
      "Epoch 6/50\n",
      "3/3 [==============================] - 0s 40ms/step - loss: 0.0091 - val_loss: 0.0488\n",
      "Epoch 7/50\n",
      "3/3 [==============================] - 0s 38ms/step - loss: 0.0121 - val_loss: 0.0426\n",
      "Epoch 8/50\n",
      "3/3 [==============================] - 0s 36ms/step - loss: 0.0119 - val_loss: 0.0503\n",
      "Epoch 9/50\n",
      "3/3 [==============================] - 0s 40ms/step - loss: 0.0091 - val_loss: 0.0644\n",
      "Epoch 10/50\n",
      "3/3 [==============================] - 0s 36ms/step - loss: 0.0074 - val_loss: 0.0795\n",
      "Epoch 11/50\n",
      "3/3 [==============================] - 0s 36ms/step - loss: 0.0076 - val_loss: 0.0884\n",
      "Epoch 12/50\n",
      "3/3 [==============================] - 0s 36ms/step - loss: 0.0083 - val_loss: 0.0885\n",
      "Epoch 13/50\n",
      "3/3 [==============================] - 0s 32ms/step - loss: 0.0083 - val_loss: 0.0818\n",
      "Epoch 14/50\n",
      "3/3 [==============================] - 0s 36ms/step - loss: 0.0077 - val_loss: 0.0691\n",
      "Epoch 15/50\n",
      "3/3 [==============================] - 0s 44ms/step - loss: 0.0068 - val_loss: 0.0540\n",
      "Epoch 16/50\n",
      "3/3 [==============================] - 0s 59ms/step - loss: 0.0062 - val_loss: 0.0435\n",
      "Epoch 17/50\n",
      "3/3 [==============================] - 0s 45ms/step - loss: 0.0061 - val_loss: 0.0386\n",
      "Epoch 18/50\n",
      "3/3 [==============================] - 0s 36ms/step - loss: 0.0059 - val_loss: 0.0367\n",
      "Epoch 19/50\n",
      "3/3 [==============================] - 0s 36ms/step - loss: 0.0056 - val_loss: 0.0362\n",
      "Epoch 20/50\n",
      "3/3 [==============================] - 0s 36ms/step - loss: 0.0053 - val_loss: 0.0371\n",
      "Epoch 21/50\n",
      "3/3 [==============================] - 0s 36ms/step - loss: 0.0052 - val_loss: 0.0353\n",
      "Epoch 22/50\n",
      "3/3 [==============================] - 0s 36ms/step - loss: 0.0050 - val_loss: 0.0300\n",
      "Epoch 23/50\n",
      "3/3 [==============================] - 0s 40ms/step - loss: 0.0048 - val_loss: 0.0258\n",
      "Epoch 24/50\n",
      "3/3 [==============================] - 0s 40ms/step - loss: 0.0046 - val_loss: 0.0241\n",
      "Epoch 25/50\n",
      "3/3 [==============================] - 0s 36ms/step - loss: 0.0045 - val_loss: 0.0230\n",
      "Epoch 26/50\n",
      "3/3 [==============================] - 0s 44ms/step - loss: 0.0044 - val_loss: 0.0220\n",
      "Epoch 27/50\n",
      "3/3 [==============================] - 0s 36ms/step - loss: 0.0043 - val_loss: 0.0216\n",
      "Epoch 28/50\n",
      "3/3 [==============================] - 0s 36ms/step - loss: 0.0043 - val_loss: 0.0213\n",
      "Epoch 29/50\n",
      "3/3 [==============================] - 0s 40ms/step - loss: 0.0042 - val_loss: 0.0212\n",
      "Epoch 30/50\n",
      "3/3 [==============================] - 0s 32ms/step - loss: 0.0042 - val_loss: 0.0213\n",
      "Epoch 31/50\n",
      "3/3 [==============================] - 0s 36ms/step - loss: 0.0042 - val_loss: 0.0216\n",
      "Epoch 32/50\n",
      "3/3 [==============================] - 0s 36ms/step - loss: 0.0042 - val_loss: 0.0227\n",
      "Epoch 33/50\n",
      "3/3 [==============================] - 0s 40ms/step - loss: 0.0042 - val_loss: 0.0239\n",
      "Epoch 34/50\n",
      "3/3 [==============================] - 0s 40ms/step - loss: 0.0045 - val_loss: 0.0248\n",
      "Epoch 35/50\n",
      "3/3 [==============================] - 0s 40ms/step - loss: 0.0044 - val_loss: 0.0219\n",
      "Epoch 36/50\n",
      "3/3 [==============================] - 0s 40ms/step - loss: 0.0043 - val_loss: 0.0215\n",
      "Epoch 37/50\n",
      "3/3 [==============================] - 0s 36ms/step - loss: 0.0043 - val_loss: 0.0219\n",
      "Epoch 38/50\n",
      "3/3 [==============================] - 0s 40ms/step - loss: 0.0042 - val_loss: 0.0230\n",
      "Epoch 39/50\n",
      "3/3 [==============================] - 0s 40ms/step - loss: 0.0044 - val_loss: 0.0243\n",
      "Epoch 40/50\n",
      "3/3 [==============================] - 0s 40ms/step - loss: 0.0043 - val_loss: 0.0223\n",
      "Epoch 41/50\n",
      "3/3 [==============================] - 0s 36ms/step - loss: 0.0041 - val_loss: 0.0213\n",
      "Epoch 42/50\n",
      "3/3 [==============================] - 0s 44ms/step - loss: 0.0043 - val_loss: 0.0212\n",
      "Epoch 43/50\n",
      "3/3 [==============================] - 0s 40ms/step - loss: 0.0042 - val_loss: 0.0222\n",
      "Epoch 44/50\n",
      "3/3 [==============================] - 0s 40ms/step - loss: 0.0041 - val_loss: 0.0243\n",
      "Epoch 45/50\n",
      "3/3 [==============================] - 0s 36ms/step - loss: 0.0043 - val_loss: 0.0235\n",
      "Epoch 46/50\n",
      "3/3 [==============================] - 0s 46ms/step - loss: 0.0041 - val_loss: 0.0216\n",
      "Epoch 47/50\n",
      "3/3 [==============================] - 0s 40ms/step - loss: 0.0042 - val_loss: 0.0211\n",
      "Epoch 48/50\n",
      "3/3 [==============================] - 0s 36ms/step - loss: 0.0043 - val_loss: 0.0212\n",
      "Epoch 49/50\n",
      "3/3 [==============================] - 0s 46ms/step - loss: 0.0042 - val_loss: 0.0219\n",
      "Epoch 50/50\n",
      "3/3 [==============================] - 0s 40ms/step - loss: 0.0041 - val_loss: 0.0244\n"
     ]
    },
    {
     "data": {
      "text/plain": [
       "<keras.callbacks.History at 0x1be62ef4d30>"
      ]
     },
     "execution_count": 71,
     "metadata": {},
     "output_type": "execute_result"
    }
   ],
   "source": [
    "model.fit(x_train,y_train,validation_data=(x_test,y_test), epochs=50,batch_size =32, verbose=1)"
   ]
  },
  {
   "cell_type": "markdown",
   "metadata": {},
   "source": [
    "**Making the predictions with the model**"
   ]
  },
  {
   "cell_type": "code",
   "execution_count": 72,
   "metadata": {},
   "outputs": [
    {
     "name": "stdout",
     "output_type": "stream",
     "text": [
      "3/3 [==============================] - 1s 4ms/step\n",
      "1/1 [==============================] - 0s 24ms/step\n"
     ]
    }
   ],
   "source": [
    "train_predict = model.predict(x_train)\n",
    "test_predict = model.predict(x_test)"
   ]
  },
  {
   "cell_type": "markdown",
   "metadata": {},
   "source": [
    "**Transform the databack to original form**"
   ]
  },
  {
   "cell_type": "code",
   "execution_count": 73,
   "metadata": {},
   "outputs": [],
   "source": [
    "train_predict = scaler.inverse_transform(train_predict)\n",
    "test_predict = scaler.inverse_transform(test_predict)"
   ]
  },
  {
   "cell_type": "code",
   "execution_count": 74,
   "metadata": {
    "scrolled": true
   },
   "outputs": [
    {
     "data": {
      "text/plain": [
       "array([[1000154.25],\n",
       "       [1000155.9 ],\n",
       "       [1000157.56],\n",
       "       [1000158.8 ],\n",
       "       [1000160.  ],\n",
       "       [1000161.3 ],\n",
       "       [1000162.2 ],\n",
       "       [1000162.9 ],\n",
       "       [1000163.8 ],\n",
       "       [1000165.4 ],\n",
       "       [1000167.7 ],\n",
       "       [1000170.8 ],\n",
       "       [1000173.9 ],\n",
       "       [1000177.44],\n",
       "       [1000180.8 ],\n",
       "       [1000183.44],\n",
       "       [1000186.1 ],\n",
       "       [1000188.75],\n",
       "       [1000190.5 ],\n",
       "       [1000191.7 ],\n",
       "       [1000192.9 ],\n",
       "       [1000194.5 ],\n",
       "       [1000197.25],\n",
       "       [1000200.8 ],\n",
       "       [1000204.2 ],\n",
       "       [1000207.8 ],\n",
       "       [1000211.4 ],\n",
       "       [1000213.94],\n",
       "       [1000216.8 ],\n",
       "       [1000219.25],\n",
       "       [1000221.1 ],\n",
       "       [1000222.4 ],\n",
       "       [1000224.  ],\n",
       "       [1000226.44],\n",
       "       [1000230.06],\n",
       "       [1000234.7 ],\n",
       "       [1000239.06],\n",
       "       [1000243.75],\n",
       "       [1000248.1 ],\n",
       "       [1000251.56],\n",
       "       [1000254.75],\n",
       "       [1000257.3 ],\n",
       "       [1000257.7 ],\n",
       "       [1000257.3 ],\n",
       "       [1000256.44],\n",
       "       [1000256.8 ],\n",
       "       [1000258.2 ],\n",
       "       [1000261.  ],\n",
       "       [1000263.6 ],\n",
       "       [1000266.94],\n",
       "       [1000270.5 ],\n",
       "       [1000272.3 ],\n",
       "       [1000274.  ],\n",
       "       [1000275.75],\n",
       "       [1000276.7 ],\n",
       "       [1000277.  ],\n",
       "       [1000277.25],\n",
       "       [1000279.25],\n",
       "       [1000282.94],\n",
       "       [1000288.8 ],\n",
       "       [1000294.9 ],\n",
       "       [1000301.7 ],\n",
       "       [1000309.5 ],\n",
       "       [1000314.94],\n",
       "       [1000320.4 ],\n",
       "       [1000325.06],\n",
       "       [1000328.1 ],\n",
       "       [1000329.56],\n",
       "       [1000331.7 ],\n",
       "       [1000335.44],\n",
       "       [1000340.94],\n",
       "       [1000348.4 ]], dtype=float32)"
      ]
     },
     "execution_count": 74,
     "metadata": {},
     "output_type": "execute_result"
    }
   ],
   "source": [
    "train_predict"
   ]
  },
  {
   "cell_type": "code",
   "execution_count": 79,
   "metadata": {},
   "outputs": [],
   "source": [
    "y_train = scaler.inverse_transform(y_train.reshape(-1,1))"
   ]
  },
  {
   "cell_type": "code",
   "execution_count": 80,
   "metadata": {},
   "outputs": [
    {
     "data": {
      "text/plain": [
       "array([[1000158.],\n",
       "       [1000133.],\n",
       "       [1000114.],\n",
       "       [1000140.],\n",
       "       [1000145.],\n",
       "       [1000150.],\n",
       "       [1000178.],\n",
       "       [1000163.],\n",
       "       [1000172.],\n",
       "       [1000178.],\n",
       "       [1000199.],\n",
       "       [1000199.],\n",
       "       [1000184.],\n",
       "       [1000162.],\n",
       "       [1000146.],\n",
       "       [1000166.],\n",
       "       [1000171.],\n",
       "       [1000180.],\n",
       "       [1000193.],\n",
       "       [1000181.],\n",
       "       [1000183.],\n",
       "       [1000218.],\n",
       "       [1000230.],\n",
       "       [1000242.],\n",
       "       [1000209.],\n",
       "       [1000191.],\n",
       "       [1000172.],\n",
       "       [1000194.],\n",
       "       [1000196.],\n",
       "       [1000196.],\n",
       "       [1000236.],\n",
       "       [1000235.],\n",
       "       [1000229.],\n",
       "       [1000243.],\n",
       "       [1000264.],\n",
       "       [1000272.],\n",
       "       [1000237.],\n",
       "       [1000211.],\n",
       "       [1000180.],\n",
       "       [1000201.],\n",
       "       [1000204.],\n",
       "       [1000188.],\n",
       "       [1000235.],\n",
       "       [1000227.],\n",
       "       [1000234.],\n",
       "       [1000264.],\n",
       "       [1000302.],\n",
       "       [1000293.],\n",
       "       [1000259.],\n",
       "       [1000229.],\n",
       "       [1000203.],\n",
       "       [1000229.],\n",
       "       [1000242.],\n",
       "       [1000233.],\n",
       "       [1000267.],\n",
       "       [1000269.],\n",
       "       [1000270.],\n",
       "       [1000315.],\n",
       "       [1000364.],\n",
       "       [1000347.],\n",
       "       [1000312.],\n",
       "       [1000274.],\n",
       "       [1000237.],\n",
       "       [1000278.],\n",
       "       [1000284.],\n",
       "       [1000277.],\n",
       "       [1000317.],\n",
       "       [1000313.],\n",
       "       [1000318.],\n",
       "       [1000374.],\n",
       "       [1000413.],\n",
       "       [1000405.]])"
      ]
     },
     "execution_count": 80,
     "metadata": {},
     "output_type": "execute_result"
    }
   ],
   "source": [
    "y_train"
   ]
  },
  {
   "cell_type": "code",
   "execution_count": 81,
   "metadata": {},
   "outputs": [
    {
     "data": {
      "text/plain": [
       "33.76961476698271"
      ]
     },
     "execution_count": 81,
     "metadata": {},
     "output_type": "execute_result"
    }
   ],
   "source": [
    "import math\n",
    "\n",
    "math.sqrt(mean_squared_error(y_train,train_predict))"
   ]
  },
  {
   "cell_type": "code",
   "execution_count": 82,
   "metadata": {},
   "outputs": [],
   "source": [
    "y_test = scaler.inverse_transform(y_test.reshape(-1,1))"
   ]
  },
  {
   "cell_type": "code",
   "execution_count": 83,
   "metadata": {},
   "outputs": [
    {
     "data": {
      "text/plain": [
       "80.87520849406407"
      ]
     },
     "execution_count": 83,
     "metadata": {},
     "output_type": "execute_result"
    }
   ],
   "source": [
    "math.sqrt(mean_squared_error(y_test,test_predict))"
   ]
  },
  {
   "cell_type": "code",
   "execution_count": 166,
   "metadata": {},
   "outputs": [
    {
     "data": {
      "text/plain": [
       "(93, 51)"
      ]
     },
     "execution_count": 166,
     "metadata": {},
     "output_type": "execute_result"
    }
   ],
   "source": [
    "len(train_data), len(test_data)"
   ]
  },
  {
   "cell_type": "code",
   "execution_count": 170,
   "metadata": {},
   "outputs": [
    {
     "data": {
      "text/plain": [
       "array([[0.38996139],\n",
       "       [0.32239382],\n",
       "       [0.38996139],\n",
       "       [0.40733591],\n",
       "       [0.38030888],\n",
       "       [0.48648649],\n",
       "       [0.47104247],\n",
       "       [0.48455598],\n",
       "       [0.61389961],\n",
       "       [0.6969112 ],\n",
       "       [0.7007722 ],\n",
       "       [0.57915058],\n",
       "       [0.46911197],\n",
       "       [0.38803089],\n",
       "       [0.44787645],\n",
       "       [0.45559846],\n",
       "       [0.41312741],\n",
       "       [0.4980695 ],\n",
       "       [0.47104247],\n",
       "       [0.5       ],\n",
       "       [0.63899614],\n",
       "       [0.74710425],\n",
       "       [0.77413127],\n",
       "       [0.57915058],\n",
       "       [0.49227799],\n",
       "       [0.3976834 ],\n",
       "       [0.44980695],\n",
       "       [0.49420849],\n",
       "       [0.45945946],\n",
       "       [0.58301158],\n",
       "       [0.56370656],\n",
       "       [0.61003861],\n",
       "       [0.71042471],\n",
       "       [0.85714286],\n",
       "       [0.87837838],\n",
       "       [0.69305019],\n",
       "       [0.58494208],\n",
       "       [0.4980695 ],\n",
       "       [0.58108108],\n",
       "       [0.6042471 ],\n",
       "       [0.55405405],\n",
       "       [0.60810811],\n",
       "       [0.68918919],\n",
       "       [0.71042471],\n",
       "       [0.83204633],\n",
       "       [1.        ],\n",
       "       [0.96911197],\n",
       "       [0.77992278],\n",
       "       [0.68918919],\n",
       "       [0.55212355],\n",
       "       [0.63320463]])"
      ]
     },
     "execution_count": 170,
     "metadata": {},
     "output_type": "execute_result"
    }
   ],
   "source": [
    "test_data"
   ]
  },
  {
   "cell_type": "markdown",
   "metadata": {},
   "source": [
    "**Since I have used the timestep as 20 while building the model, taking last 20 elements from the the test data to use as the input for the model**"
   ]
  },
  {
   "cell_type": "code",
   "execution_count": 184,
   "metadata": {},
   "outputs": [
    {
     "data": {
      "text/plain": [
       "(1, 20)"
      ]
     },
     "execution_count": 184,
     "metadata": {},
     "output_type": "execute_result"
    }
   ],
   "source": [
    "x_input = test_data[31:].reshape(1,-1)\n",
    "x_input.shape"
   ]
  },
  {
   "cell_type": "code",
   "execution_count": 185,
   "metadata": {},
   "outputs": [],
   "source": [
    "temp_input = list(x_input)\n",
    "temp_input = temp_input[0].tolist()"
   ]
  },
  {
   "cell_type": "code",
   "execution_count": 186,
   "metadata": {},
   "outputs": [
    {
     "data": {
      "text/plain": [
       "[0.6100386100386004,\n",
       " 0.7104247104248316,\n",
       " 0.8571428571428896,\n",
       " 0.8783783783783292,\n",
       " 0.6930501930503397,\n",
       " 0.5849420849422131,\n",
       " 0.49806949806952616,\n",
       " 0.5810810810810381,\n",
       " 0.6042471042471789,\n",
       " 0.554054054054177,\n",
       " 0.6081081081081265,\n",
       " 0.6891891891891646,\n",
       " 0.7104247104248316,\n",
       " 0.832046332046275,\n",
       " 1.0,\n",
       " 0.9691119691119638,\n",
       " 0.7799227799227992,\n",
       " 0.6891891891891646,\n",
       " 0.5521235521237031,\n",
       " 0.6332046332047412]"
      ]
     },
     "execution_count": 186,
     "metadata": {},
     "output_type": "execute_result"
    }
   ],
   "source": [
    "temp_input"
   ]
  },
  {
   "cell_type": "code",
   "execution_count": 187,
   "metadata": {},
   "outputs": [
    {
     "data": {
      "text/plain": [
       "20"
      ]
     },
     "execution_count": 187,
     "metadata": {},
     "output_type": "execute_result"
    }
   ],
   "source": [
    "len(temp_input)"
   ]
  },
  {
   "cell_type": "markdown",
   "metadata": {},
   "source": [
    "**Making predictions for next 36 months**"
   ]
  },
  {
   "cell_type": "code",
   "execution_count": 208,
   "metadata": {},
   "outputs": [
    {
     "name": "stdout",
     "output_type": "stream",
     "text": [
      "0 month input[0.88602543 0.89016175 0.89620578 0.90456831 0.91060352 0.91262519\n",
      " 0.91459787 0.91657293 0.91860318 0.92065167 0.92258656 0.92434883\n",
      " 0.92591166 0.92733037 0.92862403 0.92978275 0.93084252 0.93184412\n",
      " 0.93279803 0.93374944]\n",
      "0 month output[[0.9347482]]\n",
      "1 month input[0.89016175 0.89620578 0.90456831 0.91060352 0.91262519 0.91459787\n",
      " 0.91657293 0.91860318 0.92065167 0.92258656 0.92434883 0.92591166\n",
      " 0.92733037 0.92862403 0.92978275 0.93084252 0.93184412 0.93279803\n",
      " 0.93374944 0.93474817]\n",
      "1 month output[[0.93575156]]\n",
      "2 month input[0.89620578 0.90456831 0.91060352 0.91262519 0.91459787 0.91657293\n",
      " 0.91860318 0.92065167 0.92258656 0.92434883 0.92591166 0.92733037\n",
      " 0.92862403 0.92978275 0.93084252 0.93184412 0.93279803 0.93374944\n",
      " 0.93474817 0.93575156]\n",
      "2 month output[[0.9366673]]\n",
      "3 month input[0.90456831 0.91060352 0.91262519 0.91459787 0.91657293 0.91860318\n",
      " 0.92065167 0.92258656 0.92434883 0.92591166 0.92733037 0.92862403\n",
      " 0.92978275 0.93084252 0.93184412 0.93279803 0.93374944 0.93474817\n",
      " 0.93575156 0.93666732]\n",
      "3 month output[[0.9374635]]\n",
      "4 month input[0.91060352 0.91262519 0.91459787 0.91657293 0.91860318 0.92065167\n",
      " 0.92258656 0.92434883 0.92591166 0.92733037 0.92862403 0.92978275\n",
      " 0.93084252 0.93184412 0.93279803 0.93374944 0.93474817 0.93575156\n",
      " 0.93666732 0.93746352]\n",
      "4 month output[[0.93810666]]\n",
      "5 month input[0.91262519 0.91459787 0.91657293 0.91860318 0.92065167 0.92258656\n",
      " 0.92434883 0.92591166 0.92733037 0.92862403 0.92978275 0.93084252\n",
      " 0.93184412 0.93279803 0.93374944 0.93474817 0.93575156 0.93666732\n",
      " 0.93746352 0.93810666]\n",
      "5 month output[[0.93864715]]\n",
      "6 month input[0.91459787 0.91657293 0.91860318 0.92065167 0.92258656 0.92434883\n",
      " 0.92591166 0.92733037 0.92862403 0.92978275 0.93084252 0.93184412\n",
      " 0.93279803 0.93374944 0.93474817 0.93575156 0.93666732 0.93746352\n",
      " 0.93810666 0.93864715]\n",
      "6 month output[[0.9391589]]\n",
      "7 month input[0.91657293 0.91860318 0.92065167 0.92258656 0.92434883 0.92591166\n",
      " 0.92733037 0.92862403 0.92978275 0.93084252 0.93184412 0.93279803\n",
      " 0.93374944 0.93474817 0.93575156 0.93666732 0.93746352 0.93810666\n",
      " 0.93864715 0.93915892]\n",
      "7 month output[[0.93964124]]\n",
      "8 month input[0.91860318 0.92065167 0.92258656 0.92434883 0.92591166 0.92733037\n",
      " 0.92862403 0.92978275 0.93084252 0.93184412 0.93279803 0.93374944\n",
      " 0.93474817 0.93575156 0.93666732 0.93746352 0.93810666 0.93864715\n",
      " 0.93915892 0.93964124]\n",
      "8 month output[[0.9400935]]\n",
      "9 month input[0.92065167 0.92258656 0.92434883 0.92591166 0.92733037 0.92862403\n",
      " 0.92978275 0.93084252 0.93184412 0.93279803 0.93374944 0.93474817\n",
      " 0.93575156 0.93666732 0.93746352 0.93810666 0.93864715 0.93915892\n",
      " 0.93964124 0.94009352]\n",
      "9 month output[[0.9405142]]\n",
      "10 month input[0.92258656 0.92434883 0.92591166 0.92733037 0.92862403 0.92978275\n",
      " 0.93084252 0.93184412 0.93279803 0.93374944 0.93474817 0.93575156\n",
      " 0.93666732 0.93746352 0.93810666 0.93864715 0.93915892 0.93964124\n",
      " 0.94009352 0.94051421]\n",
      "10 month output[[0.9409025]]\n",
      "11 month input[0.92434883 0.92591166 0.92733037 0.92862403 0.92978275 0.93084252\n",
      " 0.93184412 0.93279803 0.93374944 0.93474817 0.93575156 0.93666732\n",
      " 0.93746352 0.93810666 0.93864715 0.93915892 0.93964124 0.94009352\n",
      " 0.94051421 0.94090247]\n",
      "11 month output[[0.94126034]]\n",
      "12 month input[0.92591166 0.92733037 0.92862403 0.92978275 0.93084252 0.93184412\n",
      " 0.93279803 0.93374944 0.93474817 0.93575156 0.93666732 0.93746352\n",
      " 0.93810666 0.93864715 0.93915892 0.93964124 0.94009352 0.94051421\n",
      " 0.94090247 0.94126034]\n",
      "12 month output[[0.9415908]]\n",
      "13 month input[0.92733037 0.92862403 0.92978275 0.93084252 0.93184412 0.93279803\n",
      " 0.93374944 0.93474817 0.93575156 0.93666732 0.93746352 0.93810666\n",
      " 0.93864715 0.93915892 0.93964124 0.94009352 0.94051421 0.94090247\n",
      " 0.94126034 0.94159079]\n",
      "13 month output[[0.94189715]]\n",
      "14 month input[0.92862403 0.92978275 0.93084252 0.93184412 0.93279803 0.93374944\n",
      " 0.93474817 0.93575156 0.93666732 0.93746352 0.93810666 0.93864715\n",
      " 0.93915892 0.93964124 0.94009352 0.94051421 0.94090247 0.94126034\n",
      " 0.94159079 0.94189715]\n",
      "14 month output[[0.9421817]]\n",
      "15 month input[0.92978275 0.93084252 0.93184412 0.93279803 0.93374944 0.93474817\n",
      " 0.93575156 0.93666732 0.93746352 0.93810666 0.93864715 0.93915892\n",
      " 0.93964124 0.94009352 0.94051421 0.94090247 0.94126034 0.94159079\n",
      " 0.94189715 0.94218171]\n",
      "15 month output[[0.9424465]]\n",
      "16 month input[0.93084252 0.93184412 0.93279803 0.93374944 0.93474817 0.93575156\n",
      " 0.93666732 0.93746352 0.93810666 0.93864715 0.93915892 0.93964124\n",
      " 0.94009352 0.94051421 0.94090247 0.94126034 0.94159079 0.94189715\n",
      " 0.94218171 0.94244647]\n",
      "16 month output[[0.9426935]]\n",
      "17 month input[0.93184412 0.93279803 0.93374944 0.93474817 0.93575156 0.93666732\n",
      " 0.93746352 0.93810666 0.93864715 0.93915892 0.93964124 0.94009352\n",
      " 0.94051421 0.94090247 0.94126034 0.94159079 0.94189715 0.94218171\n",
      " 0.94244647 0.94269347]\n",
      "17 month output[[0.942924]]\n",
      "18 month input[0.93279803 0.93374944 0.93474817 0.93575156 0.93666732 0.93746352\n",
      " 0.93810666 0.93864715 0.93915892 0.93964124 0.94009352 0.94051421\n",
      " 0.94090247 0.94126034 0.94159079 0.94189715 0.94218171 0.94244647\n",
      " 0.94269347 0.94292402]\n",
      "18 month output[[0.9431387]]\n",
      "19 month input[0.93374944 0.93474817 0.93575156 0.93666732 0.93746352 0.93810666\n",
      " 0.93864715 0.93915892 0.93964124 0.94009352 0.94051421 0.94090247\n",
      " 0.94126034 0.94159079 0.94189715 0.94218171 0.94244647 0.94269347\n",
      " 0.94292402 0.94313872]\n",
      "19 month output[[0.94333816]]\n",
      "20 month input[0.93474817 0.93575156 0.93666732 0.93746352 0.93810666 0.93864715\n",
      " 0.93915892 0.93964124 0.94009352 0.94051421 0.94090247 0.94126034\n",
      " 0.94159079 0.94189715 0.94218171 0.94244647 0.94269347 0.94292402\n",
      " 0.94313872 0.94333816]\n",
      "20 month output[[0.9435222]]\n",
      "21 month input[0.93575156 0.93666732 0.93746352 0.93810666 0.93864715 0.93915892\n",
      " 0.93964124 0.94009352 0.94051421 0.94090247 0.94126034 0.94159079\n",
      " 0.94189715 0.94218171 0.94244647 0.94269347 0.94292402 0.94313872\n",
      " 0.94333816 0.94352221]\n",
      "21 month output[[0.9436896]]\n",
      "22 month input[0.93666732 0.93746352 0.93810666 0.93864715 0.93915892 0.93964124\n",
      " 0.94009352 0.94051421 0.94090247 0.94126034 0.94159079 0.94189715\n",
      " 0.94218171 0.94244647 0.94269347 0.94292402 0.94313872 0.94333816\n",
      " 0.94352221 0.94368958]\n",
      "22 month output[[0.94384086]]\n",
      "23 month input[0.93746352 0.93810666 0.93864715 0.93915892 0.93964124 0.94009352\n",
      " 0.94051421 0.94090247 0.94126034 0.94159079 0.94189715 0.94218171\n",
      " 0.94244647 0.94269347 0.94292402 0.94313872 0.94333816 0.94352221\n",
      " 0.94368958 0.94384086]\n",
      "23 month output[[0.9439775]]\n",
      "24 month input[0.93810666 0.93864715 0.93915892 0.93964124 0.94009352 0.94051421\n",
      " 0.94090247 0.94126034 0.94159079 0.94189715 0.94218171 0.94244647\n",
      " 0.94269347 0.94292402 0.94313872 0.94333816 0.94352221 0.94368958\n",
      " 0.94384086 0.94397748]\n",
      "24 month output[[0.9441016]]\n",
      "25 month input[0.93864715 0.93915892 0.93964124 0.94009352 0.94051421 0.94090247\n",
      " 0.94126034 0.94159079 0.94189715 0.94218171 0.94244647 0.94269347\n",
      " 0.94292402 0.94313872 0.94333816 0.94352221 0.94368958 0.94384086\n",
      " 0.94397748 0.94410157]\n",
      "25 month output[[0.9442158]]\n",
      "26 month input[0.93915892 0.93964124 0.94009352 0.94051421 0.94090247 0.94126034\n",
      " 0.94159079 0.94189715 0.94218171 0.94244647 0.94269347 0.94292402\n",
      " 0.94313872 0.94333816 0.94352221 0.94368958 0.94384086 0.94397748\n",
      " 0.94410157 0.94421577]\n",
      "26 month output[[0.9443222]]\n",
      "27 month input[0.93964124 0.94009352 0.94051421 0.94090247 0.94126034 0.94159079\n",
      " 0.94189715 0.94218171 0.94244647 0.94269347 0.94292402 0.94313872\n",
      " 0.94333816 0.94352221 0.94368958 0.94384086 0.94397748 0.94410157\n",
      " 0.94421577 0.94432223]\n",
      "27 month output[[0.9444208]]\n",
      "28 month input[0.94009352 0.94051421 0.94090247 0.94126034 0.94159079 0.94189715\n",
      " 0.94218171 0.94244647 0.94269347 0.94292402 0.94313872 0.94333816\n",
      " 0.94352221 0.94368958 0.94384086 0.94397748 0.94410157 0.94421577\n",
      " 0.94432223 0.94442081]\n",
      "28 month output[[0.9445121]]\n",
      "29 month input[0.94051421 0.94090247 0.94126034 0.94159079 0.94189715 0.94218171\n",
      " 0.94244647 0.94269347 0.94292402 0.94313872 0.94333816 0.94352221\n",
      " 0.94368958 0.94384086 0.94397748 0.94410157 0.94421577 0.94432223\n",
      " 0.94442081 0.94451213]\n",
      "29 month output[[0.9445964]]\n",
      "30 month input[0.94090247 0.94126034 0.94159079 0.94189715 0.94218171 0.94244647\n",
      " 0.94269347 0.94292402 0.94313872 0.94333816 0.94352221 0.94368958\n",
      " 0.94384086 0.94397748 0.94410157 0.94421577 0.94432223 0.94442081\n",
      " 0.94451213 0.94459641]\n",
      "30 month output[[0.94467425]]\n",
      "31 month input[0.94126034 0.94159079 0.94189715 0.94218171 0.94244647 0.94269347\n",
      " 0.94292402 0.94313872 0.94333816 0.94352221 0.94368958 0.94384086\n",
      " 0.94397748 0.94410157 0.94421577 0.94432223 0.94442081 0.94451213\n",
      " 0.94459641 0.94467425]\n",
      "31 month output[[0.9447464]]\n",
      "32 month input[0.94159079 0.94189715 0.94218171 0.94244647 0.94269347 0.94292402\n",
      " 0.94313872 0.94333816 0.94352221 0.94368958 0.94384086 0.94397748\n",
      " 0.94410157 0.94421577 0.94432223 0.94442081 0.94451213 0.94459641\n",
      " 0.94467425 0.94474638]\n",
      "32 month output[[0.94481266]]\n",
      "33 month input[0.94189715 0.94218171 0.94244647 0.94269347 0.94292402 0.94313872\n",
      " 0.94333816 0.94352221 0.94368958 0.94384086 0.94397748 0.94410157\n",
      " 0.94421577 0.94432223 0.94442081 0.94451213 0.94459641 0.94467425\n",
      " 0.94474638 0.94481266]\n",
      "33 month output[[0.94487405]]\n",
      "34 month input[0.94218171 0.94244647 0.94269347 0.94292402 0.94313872 0.94333816\n",
      " 0.94352221 0.94368958 0.94384086 0.94397748 0.94410157 0.94421577\n",
      " 0.94432223 0.94442081 0.94451213 0.94459641 0.94467425 0.94474638\n",
      " 0.94481266 0.94487405]\n",
      "34 month output[[0.9449308]]\n",
      "35 month input[0.94244647 0.94269347 0.94292402 0.94313872 0.94333816 0.94352221\n",
      " 0.94368958 0.94384086 0.94397748 0.94410157 0.94421577 0.94432223\n",
      " 0.94442081 0.94451213 0.94459641 0.94467425 0.94474638 0.94481266\n",
      " 0.94487405 0.94493079]\n",
      "35 month output[[0.94498324]]\n",
      "[[0.9347481727600098], [0.9357515573501587], [0.9366673231124878], [0.9374635219573975], [0.9381066560745239], [0.9386471509933472], [0.9391589164733887], [0.9396412372589111], [0.9400935173034668], [0.9405142068862915], [0.9409024715423584], [0.9412603378295898], [0.9415907859802246], [0.9418971538543701], [0.9421817064285278], [0.9424464702606201], [0.9426934719085693], [0.9429240226745605], [0.9431387186050415], [0.94333815574646], [0.9435222148895264], [0.9436895847320557], [0.9438408613204956], [0.9439774751663208], [0.9441015720367432], [0.9442157745361328], [0.9443222284317017], [0.9444208145141602], [0.944512128829956], [0.9445964097976685], [0.9446742534637451], [0.9447463750839233], [0.9448126554489136], [0.9448740482330322], [0.9449307918548584], [0.9449832439422607]]\n"
     ]
    }
   ],
   "source": [
    "# predict for next 36 months \n",
    "\n",
    "n_steps = 20\n",
    "i=0\n",
    "lst_output = []\n",
    "\n",
    "# Running a while loop for 36 times\n",
    "while i<36:\n",
    "    # check the number of step\n",
    "    if(len(temp_input)>20):\n",
    "        x_input = np.array(temp_input[1:])\n",
    "        print(\"{} month input{}\".format(i,x_input))\n",
    "        # reshaping the input to 3D to pass into the model\n",
    "        x_input = x_input.reshape(1,-1)\n",
    "        x_input = x_input.reshape(1,n_steps,1)\n",
    "        #Save the predicted value in yhat\n",
    "        yhat = model.predict(x_input, verbose=0)\n",
    "        print(\"{} month output{}\".format(i,yhat))\n",
    "        temp_input.extend(yhat[0].tolist())\n",
    "        temp_input = temp_input[1:]\n",
    "        lst_output.extend(yhat.tolist())\n",
    "        i +=1\n",
    "    else:\n",
    "        # Reshaping the input to 3D to pass into the model\n",
    "        x_input = x_input.reshape((1,n_steps,1))\n",
    "        # Saving the predicted value to yhat\n",
    "        yhat = model.predict(x_input,verbose=0)\n",
    "        print(yhat[0])\n",
    "        #Now add the predicted value to the input list\n",
    "        temp_input.extend(yhat[0].tolist())\n",
    "        print(len(temp_input))\n",
    "        #Add the predicted value to lst_output\n",
    "        lst_output.extend(yhat.tolist())\n",
    "        i+=1\n",
    "print(lst_output)\n",
    "        "
   ]
  },
  {
   "cell_type": "code",
   "execution_count": 190,
   "metadata": {},
   "outputs": [],
   "source": [
    "day_new = np.arange(1,21)\n",
    "day_pred = np.arange(21,57)"
   ]
  },
  {
   "cell_type": "code",
   "execution_count": 200,
   "metadata": {},
   "outputs": [
    {
     "data": {
      "text/plain": [
       "[[0.8200169801712036],\n",
       " [0.8251371383666992],\n",
       " [0.8274674415588379],\n",
       " [0.8263183832168579],\n",
       " [0.8258520364761353],\n",
       " [0.8315111398696899],\n",
       " [0.8401870727539062],\n",
       " [0.8506653308868408],\n",
       " [0.8586040735244751],\n",
       " [0.8657205104827881],\n",
       " [0.8736802339553833],\n",
       " [0.8799877166748047],\n",
       " [0.8842357397079468],\n",
       " [0.887946605682373],\n",
       " [0.8889880180358887],\n",
       " [0.8867062330245972],\n",
       " [0.8860254287719727],\n",
       " [0.8901617527008057],\n",
       " [0.8962057828903198],\n",
       " [0.9045683145523071],\n",
       " [0.9106035232543945],\n",
       " [0.9126251935958862],\n",
       " [0.9145978689193726],\n",
       " [0.9165729284286499],\n",
       " [0.9186031818389893],\n",
       " [0.9206516742706299],\n",
       " [0.9225865602493286],\n",
       " [0.9243488311767578],\n",
       " [0.9259116649627686],\n",
       " [0.9273303747177124],\n",
       " [0.9286240339279175],\n",
       " [0.9297827482223511],\n",
       " [0.9308425188064575],\n",
       " [0.9318441152572632],\n",
       " [0.9327980279922485],\n",
       " [0.9337494373321533]]"
      ]
     },
     "execution_count": 200,
     "metadata": {},
     "output_type": "execute_result"
    }
   ],
   "source": [
    "lst_output"
   ]
  },
  {
   "cell_type": "code",
   "execution_count": 205,
   "metadata": {},
   "outputs": [],
   "source": [
    "temp_y = y.tolist()\n",
    "temp_y.extend(np.array(lst_output).reshape(-1))"
   ]
  },
  {
   "cell_type": "code",
   "execution_count": 192,
   "metadata": {},
   "outputs": [
    {
     "data": {
      "text/plain": [
       "144"
      ]
     },
     "execution_count": 192,
     "metadata": {},
     "output_type": "execute_result"
    }
   ],
   "source": [
    "len(y)"
   ]
  },
  {
   "cell_type": "markdown",
   "metadata": {},
   "source": [
    "**Ploting the results**"
   ]
  },
  {
   "cell_type": "code",
   "execution_count": 210,
   "metadata": {},
   "outputs": [
    {
     "data": {
      "text/plain": [
       "[<matplotlib.lines.Line2D at 0x1be6e583b20>]"
      ]
     },
     "execution_count": 210,
     "metadata": {},
     "output_type": "execute_result"
    },
    {
     "data": {
      "image/png": "[encoded data removed]",
      "text/plain": [
       "<Figure size 432x288 with 1 Axes>"
      ]
     },
     "metadata": {
      "needs_background": "light"
     },
     "output_type": "display_data"
    }
   ],
   "source": [
    "plt.plot(day_new,y[124:])\n",
    "plt.plot(day_pred,scaler.inverse_transform(lst_output))"
   ]
  },
  {
   "cell_type": "code",
   "execution_count": null,
   "metadata": {},
   "outputs": [],
   "source": []
  }
 ],
 "metadata": {
  "kernelspec": {
   "display_name": "Python 3 (ipykernel)",
   "language": "python",
   "name": "python3"
  },
  "language_info": {
   "codemirror_mode": {
    "name": "ipython",
    "version": 3
   },
   "file_extension": ".py",
   "mimetype": "text/x-python",
   "name": "python",
   "nbconvert_exporter": "python",
   "pygments_lexer": "ipython3",
   "version": "3.9.7"
  }
 },
 "nbformat": 4,
 "nbformat_minor": 2
}
